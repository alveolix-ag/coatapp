{
 "cells": [
  {
   "cell_type": "code",
   "execution_count": 2,
   "metadata": {},
   "outputs": [
    {
     "name": "stdout",
     "output_type": "stream",
     "text": [
      "set robot speed to fast (Enter 1), medium (Enter 2) or slow (Enter 3)2\n",
      "good job\n"
     ]
    }
   ],
   "source": [
    "from opentrons import labware, instruments, robot, containers\n",
    "import signal\n",
    "import sys\n",
    "import pickle\n",
    "import subprocess\n",
    "\n",
    "\n",
    "speed_conf = input('set robot speed to fast (Enter 1), medium (Enter 2) or slow (Enter 3)')\n",
    "\n",
    "if int(speed_conf) == 2:\n",
    "    print(\"good job\")\n",
    "\n",
    "robot.connect()\n",
    "robot.home()\n"
   ]
  },
  {
   "cell_type": "code",
   "execution_count": null,
   "metadata": {},
   "outputs": [],
   "source": []
  }
 ],
 "metadata": {
  "kernelspec": {
   "display_name": "Python 3",
   "language": "python",
   "name": "python3"
  },
  "language_info": {
   "codemirror_mode": {
    "name": "ipython",
    "version": 3
   },
   "file_extension": ".py",
   "mimetype": "text/x-python",
   "name": "python",
   "nbconvert_exporter": "python",
   "pygments_lexer": "ipython3",
   "version": "3.6.3"
  }
 },
 "nbformat": 4,
 "nbformat_minor": 2
}
