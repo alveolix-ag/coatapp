{
 "cells": [
  {
   "cell_type": "code",
   "execution_count": 1,
   "metadata": {},
   "outputs": [
    {
     "name": "stdout",
     "output_type": "stream",
     "text": [
      "set robot speed to fast (Enter 1), medium (Enter 2) or slow (Enter 3)1\n",
      "Number of chips to coat (1,2 or 3)1\n",
      "Coating Apical only (Enter 1), or Coating Apical and Basal side (Enter 2)1\n",
      "Ensure that there is pipette tips from well A5\n",
      "If not reset pipette count using usetip(val,rst) function\n"
     ]
    },
    {
     "data": {
      "text/plain": [
       "<opentrons.legacy_api.instruments.pipette.Pipette at 0x7521e070>"
      ]
     },
     "execution_count": 1,
     "metadata": {},
     "output_type": "execute_result"
    }
   ],
   "source": [
    "from opentrons import labware, instruments, robot, containers\n",
    "import signal\n",
    "import sys\n",
    "import math\n",
    "import pickle\n",
    "\n",
    "# metadata\n",
    "metadata = {\n",
    "    'protocolName': 'Chip_Wash_Rotator',\n",
    "    'author': 'Daniel Nakhaee-Zadeh Gutierrez',\n",
    "    'description': 'Protocol used to wash the chip coatings from the AX6 chip',\n",
    "}\n",
    "\n",
    "#Connect to Robot\n",
    "robot.connect()\n",
    "robot.home() #home robot axes\n",
    "\n",
    "#set motor speed\n",
    "slow_speed = {'x': 100, 'y': 100, 'z': 20, 'a': 20, 'b': 10, 'c': 10}\n",
    "fast_speed = {'x': 500, 'y': 300, 'z': 100, 'a': 100, 'b': 40, 'c': 40}\n",
    "medium_speed = {'x': 300, 'y': 200, 'z': 75, 'a': 75, 'b': 25, 'c': 25}\n",
    "speed_conf = int(input('set robot speed to fast (Enter 1), medium (Enter 2) or slow (Enter 3)'))\n",
    "if speed_conf ==1:\n",
    "    speed_set = fast_speed\n",
    "elif speed_conf ==2:\n",
    "    speed_set = medium_speed\n",
    "elif speed_conf ==3:\n",
    "    speed_set = slow_speed\n",
    "    \n",
    "robot.head_speed(combined_speed=max(speed_set.values()),**speed_set)\n",
    "\n",
    "#num of chips\n",
    "num_chips = int(input('Number of chips to coat (1,2 or 3)'))\n",
    "\n",
    "# Side to coat\n",
    "while 1:\n",
    "    side_to_coat = int(input(\"Coating Apical only (Enter 1), or Coating Apical and Basal side (Enter 2)\"))\n",
    "    if side_to_coat != 2 and side_to_coat != 1:\n",
    "        print('Error - Please enter a correct value (1 or 2)')\n",
    "    else:\n",
    "        break\n",
    "\n",
    "\n",
    "# labware\n",
    "if 'ax_6' not in locals():\n",
    "    plate = labware.load('96-PCR-flat','8')\n",
    "if 'tiprack' not in locals():\n",
    "    tiprack = labware.load('opentrons-tiprack-300ul', '1')\n",
    "if 'ep_rack' not in locals():\n",
    "    ep_rack = labware.load('opentrons_24_tuberack_eppendorf_2ml_safelock_snapcap','4')\n",
    "\n",
    "\n",
    "# pipettes\n",
    "if 'pipette_300' not in locals():\n",
    "    pipette_300 = instruments.P300_Single(mount='left', tip_racks=[tiprack])\n",
    "if 'pipette_50' not in locals():\n",
    "    pipette_50 = instruments.P50_Single(mount='right', tip_racks=[tiprack])\n",
    "    \n",
    "\n",
    "wells = [\"A1\",\"B1\",\"C1\",\"D1\",\"E1\",\"F1\",\"A2\",\"B2\",\"C2\",\"D2\",\"E2\",\"F2\",\"A3\",\"B3\",\"C3\",\"D3\",\"E3\",\"F3\"]\n",
    "\n",
    "#Keeping sanity on tips\n",
    "piwells =[\"A1\",\"B1\",\"C1\",\"D1\",\"E1\",\"F1\",\"G1\",\"H1\",\"A2\",\"B2\",\"C2\",\"D2\",\"E2\",\"F2\",\"G2\",\"H2\",\"A3\",\"B3\",\"C3\",\"D3\",\"E3\",\"F3\",\"G3\",\"H3\",\"A4\",\"B4\",\"C4\",\"D4\",\"E4\",\"F4\",\"G4\",\"H4\",\"A5\",\"B5\",\"C5\",\"D5\",\"E5\",\"F5\",\"G5\",\"H5\",\"A6\",\"B6\",\"C6\",\"D6\",\"E6\",\"F6\",\"G6\",\"H6\",\"A7\",\"B7\",\"C7\",\"D7\",\"E7\",\"F7\",\"G7\",\"H7\",\"A8\",\"B8\",\"C8\",\"D8\",\"E8\",\"F8\",\"G8\",\"H8\"]\n",
    "def usetip(val = 3,rst = 0):\n",
    "    if val == 0:\n",
    "        varwells = rst;\n",
    "    elif val == 1:\n",
    "        with open('tipwells', 'rb') as f:\n",
    "            varwells = pickle.load(f);\n",
    "    else:\n",
    "        with open('tipwells', 'rb') as f:\n",
    "            varwells = pickle.load(f);\n",
    "        varwells = varwells+1;\n",
    "    with open('tipwells', 'wb') as f:\n",
    "        pickle.dump(varwells, f);\n",
    "    return varwells\n",
    "\n",
    "\n",
    "#Check Current Pipette Tip\n",
    "print(\"Ensure that there is pipette tips from well\", piwells[int(usetip(1))])\n",
    "print(\"If not reset pipette count using usetip(val,rst) function\")\n",
    "\n",
    "\n",
    "#protocol\n",
    "pipette_300.pick_up_tip(tiprack.wells(\"E2\"))\n",
    "pipette_300.move_to(plate.wells('A1').top(10))\n"
   ]
  },
  {
   "cell_type": "code",
   "execution_count": 2,
   "metadata": {},
   "outputs": [
    {
     "name": "stdout",
     "output_type": "stream",
     "text": [
      "set robot speed to fast (Enter 1), medium (Enter 2) or slow (Enter 3)1\n",
      "Number of chips to coat (1,2 or 3)1\n",
      "Coating Apical only (Enter 1), or Coating Apical and Basal side (Enter 2)1\n",
      "Ensure that there is pipette tips from well A5\n",
      "If not reset pipette count using usetip(val,rst) function\n"
     ]
    }
   ],
   "source": [
    "from opentrons import labware, instruments, robot, containers\n",
    "import signal\n",
    "import sys\n",
    "import math\n",
    "import pickle\n",
    "\n",
    "# metadata\n",
    "metadata = {\n",
    "    'protocolName': 'Chip_Wash_Rotator',\n",
    "    'author': 'Daniel Nakhaee-Zadeh Gutierrez',\n",
    "    'description': 'Protocol used to wash the chip coatings from the AX6 chip',\n",
    "}\n",
    "\n",
    "#Connect to Robot\n",
    "robot.connect()\n",
    "robot.home() #home robot axes\n",
    "\n",
    "#set motor speed\n",
    "slow_speed = {'x': 100, 'y': 100, 'z': 20, 'a': 20, 'b': 10, 'c': 10}\n",
    "fast_speed = {'x': 500, 'y': 300, 'z': 100, 'a': 100, 'b': 40, 'c': 40}\n",
    "medium_speed = {'x': 300, 'y': 200, 'z': 75, 'a': 75, 'b': 25, 'c': 25}\n",
    "speed_conf = int(input('set robot speed to fast (Enter 1), medium (Enter 2) or slow (Enter 3)'))\n",
    "if speed_conf ==1:\n",
    "    speed_set = fast_speed\n",
    "elif speed_conf ==2:\n",
    "    speed_set = medium_speed\n",
    "elif speed_conf ==3:\n",
    "    speed_set = slow_speed\n",
    "    \n",
    "robot.head_speed(combined_speed=max(speed_set.values()),**speed_set)\n",
    "\n",
    "#num of chips\n",
    "num_chips = int(input('Number of chips to coat (1,2 or 3)'))\n",
    "\n",
    "# Side to coat\n",
    "while 1:\n",
    "    side_to_coat = int(input(\"Coating Apical only (Enter 1), or Coating Apical and Basal side (Enter 2)\"))\n",
    "    if side_to_coat != 2 and side_to_coat != 1:\n",
    "        print('Error - Please enter a correct value (1 or 2)')\n",
    "    else:\n",
    "        break\n",
    "\n",
    "\n",
    "# labware\n",
    "if 'ax_6' not in locals():\n",
    "    plate = labware.load('96-PCR-flat','2')\n",
    "if 'tiprack' not in locals():\n",
    "    tiprack = labware.load('opentrons-tiprack-300ul', '1')\n",
    "if 'ep_rack' not in locals():\n",
    "    ep_rack = labware.load('opentrons_24_tuberack_eppendorf_2ml_safelock_snapcap','4')\n",
    "\n",
    "\n",
    "# pipettes\n",
    "if 'pipette_300' not in locals():\n",
    "    pipette_300 = instruments.P300_Single(mount='left', tip_racks=[tiprack])\n",
    "if 'pipette_50' not in locals():\n",
    "    pipette_50 = instruments.P50_Single(mount='right', tip_racks=[tiprack])\n",
    "    \n",
    "\n",
    "wells = [\"A1\",\"B1\",\"C1\",\"D1\",\"E1\",\"F1\",\"A2\",\"B2\",\"C2\",\"D2\",\"E2\",\"F2\",\"A3\",\"B3\",\"C3\",\"D3\",\"E3\",\"F3\"]\n",
    "\n",
    "#Keeping sanity on tips\n",
    "piwells =[\"A1\",\"B1\",\"C1\",\"D1\",\"E1\",\"F1\",\"G1\",\"H1\",\"A2\",\"B2\",\"C2\",\"D2\",\"E2\",\"F2\",\"G2\",\"H2\",\"A3\",\"B3\",\"C3\",\"D3\",\"E3\",\"F3\",\"G3\",\"H3\",\"A4\",\"B4\",\"C4\",\"D4\",\"E4\",\"F4\",\"G4\",\"H4\",\"A5\",\"B5\",\"C5\",\"D5\",\"E5\",\"F5\",\"G5\",\"H5\",\"A6\",\"B6\",\"C6\",\"D6\",\"E6\",\"F6\",\"G6\",\"H6\",\"A7\",\"B7\",\"C7\",\"D7\",\"E7\",\"F7\",\"G7\",\"H7\",\"A8\",\"B8\",\"C8\",\"D8\",\"E8\",\"F8\",\"G8\",\"H8\"]\n",
    "def usetip(val = 3,rst = 0):\n",
    "    if val == 0:\n",
    "        varwells = rst;\n",
    "    elif val == 1:\n",
    "        with open('tipwells', 'rb') as f:\n",
    "            varwells = pickle.load(f);\n",
    "    else:\n",
    "        with open('tipwells', 'rb') as f:\n",
    "            varwells = pickle.load(f);\n",
    "        varwells = varwells+1;\n",
    "    with open('tipwells', 'wb') as f:\n",
    "        pickle.dump(varwells, f);\n",
    "    return varwells\n",
    "\n",
    "\n",
    "#Check Current Pipette Tip\n",
    "print(\"Ensure that there is pipette tips from well\", piwells[int(usetip(1))])\n",
    "print(\"If not reset pipette count using usetip(val,rst) function\")"
   ]
  },
  {
   "cell_type": "code",
   "execution_count": null,
   "metadata": {},
   "outputs": [
    {
     "name": "stderr",
     "output_type": "stream",
     "text": [
      "There is already a tip attached to this pipette.\n"
     ]
    }
   ],
   "source": [
    "pipette_300.pick_up_tip(tiprack.wells(\"E2\"))"
   ]
  },
  {
   "cell_type": "code",
   "execution_count": 9,
   "metadata": {},
   "outputs": [
    {
     "data": {
      "text/plain": [
       "<opentrons.legacy_api.instruments.pipette.Pipette at 0x6f8ec8f0>"
      ]
     },
     "execution_count": 9,
     "metadata": {},
     "output_type": "execute_result"
    }
   ],
   "source": [
    "pipette_300.move_to(plate.wells('A1').top(30))"
   ]
  },
  {
   "cell_type": "code",
   "execution_count": 3,
   "metadata": {},
   "outputs": [
    {
     "data": {
      "text/plain": [
       "<opentrons.legacy_api.instruments.pipette.Pipette at 0x7521e070>"
      ]
     },
     "execution_count": 3,
     "metadata": {},
     "output_type": "execute_result"
    }
   ],
   "source": [
    "pipette_300.transfer(100, ep_rack.wells(\"A2\").bottom(3), plate.rows('A').top(-1))"
   ]
  },
  {
   "cell_type": "code",
   "execution_count": 18,
   "metadata": {},
   "outputs": [
    {
     "name": "stderr",
     "output_type": "stream",
     "text": [
      "required 1 retries for M907 A0.1 B0.05 C0.05 X1.25 Y0.3 Z0.1 G4P0.005 G28.2X\n",
      "There is already a tip attached to this pipette.\n"
     ]
    },
    {
     "ename": "KeyboardInterrupt",
     "evalue": "",
     "output_type": "error",
     "traceback": [
      "\u001b[0;31m\u001b[0m",
      "\u001b[0;31mKeyboardInterrupt\u001b[0mTraceback (most recent call last)",
      "\u001b[0;32m<ipython-input-18-9b76b42d7304>\u001b[0m in \u001b[0;36m<module>\u001b[0;34m()\u001b[0m\n\u001b[1;32m      1\u001b[0m \u001b[0mrobot\u001b[0m\u001b[0;34m.\u001b[0m\u001b[0mhome\u001b[0m\u001b[0;34m(\u001b[0m\u001b[0;34m)\u001b[0m\u001b[0;34m\u001b[0m\u001b[0m\n\u001b[0;32m----> 2\u001b[0;31m \u001b[0mpipette_300\u001b[0m\u001b[0;34m.\u001b[0m\u001b[0mpick_up_tip\u001b[0m\u001b[0;34m(\u001b[0m\u001b[0mtiprack\u001b[0m\u001b[0;34m.\u001b[0m\u001b[0mwells\u001b[0m\u001b[0;34m(\u001b[0m\u001b[0;34m\"A1\"\u001b[0m\u001b[0;34m)\u001b[0m\u001b[0;34m)\u001b[0m\u001b[0;34m\u001b[0m\u001b[0m\n\u001b[0m\u001b[1;32m      3\u001b[0m \u001b[0mwells\u001b[0m \u001b[0;34m=\u001b[0m \u001b[0;34m[\u001b[0m\u001b[0;34m\"A1\"\u001b[0m\u001b[0;34m,\u001b[0m\u001b[0;34m\"A2\"\u001b[0m\u001b[0;34m,\u001b[0m\u001b[0;34m\"A3\"\u001b[0m\u001b[0;34m,\u001b[0m\u001b[0;34m\"A4\"\u001b[0m\u001b[0;34m,\u001b[0m\u001b[0;34m\"A5\"\u001b[0m\u001b[0;34m,\u001b[0m\u001b[0;34m\"A6\"\u001b[0m\u001b[0;34m,\u001b[0m\u001b[0;34m\"A7\"\u001b[0m\u001b[0;34m,\u001b[0m\u001b[0;34m\"A8\"\u001b[0m\u001b[0;34m,\u001b[0m\u001b[0;34m\"A9\"\u001b[0m\u001b[0;34m,\u001b[0m \u001b[0;34m\"A10\"\u001b[0m\u001b[0;34m,\u001b[0m \u001b[0;34m\"A11\"\u001b[0m\u001b[0;34m,\u001b[0m \u001b[0;34m\"A12\"\u001b[0m\u001b[0;34m]\u001b[0m\u001b[0;34m\u001b[0m\u001b[0m\n\u001b[1;32m      4\u001b[0m \u001b[0mpipette_300\u001b[0m\u001b[0;34m.\u001b[0m\u001b[0maspirate\u001b[0m\u001b[0;34m(\u001b[0m\u001b[0;36m300\u001b[0m\u001b[0;34m,\u001b[0m \u001b[0mep_rack\u001b[0m\u001b[0;34m.\u001b[0m\u001b[0mwells\u001b[0m\u001b[0;34m(\u001b[0m\u001b[0;34m\"F2\"\u001b[0m\u001b[0;34m)\u001b[0m\u001b[0;34m.\u001b[0m\u001b[0mbottom\u001b[0m\u001b[0;34m(\u001b[0m\u001b[0;36m3\u001b[0m\u001b[0;34m)\u001b[0m\u001b[0;34m)\u001b[0m\u001b[0;34m\u001b[0m\u001b[0m\n\u001b[1;32m      5\u001b[0m \u001b[0mvol\u001b[0m \u001b[0;34m=\u001b[0m \u001b[0;36m0\u001b[0m\u001b[0;34m;\u001b[0m\u001b[0;34m\u001b[0m\u001b[0m\n",
      "\u001b[0;32m/data/packages/usr/local/lib/python3.6/site-packages/opentrons/legacy_api/instruments/pipette.py\u001b[0m in \u001b[0;36mpick_up_tip\u001b[0;34m(self, location, presses, increment)\u001b[0m\n\u001b[1;32m   1021\u001b[0m                    'before', None, None, self, location, presses, increment)\n\u001b[1;32m   1022\u001b[0m         _pick_up_tip(\n\u001b[0;32m-> 1023\u001b[0;31m             self, location=location, presses=presses, increment=increment)\n\u001b[0m\u001b[1;32m   1024\u001b[0m         do_publish(self.broker, commands.pick_up_tip, self.pick_up_tip,\n\u001b[1;32m   1025\u001b[0m                    'after', self, None, self, location, presses, increment)\n",
      "\u001b[0;32m/data/packages/usr/local/lib/python3.6/site-packages/opentrons/legacy_api/instruments/pipette.py\u001b[0m in \u001b[0;36m_pick_up_tip\u001b[0;34m(self, location, presses, increment)\u001b[0m\n\u001b[1;32m    986\u001b[0m             )\n\u001b[1;32m    987\u001b[0m             \u001b[0mself\u001b[0m\u001b[0;34m.\u001b[0m\u001b[0mcurrent_volume\u001b[0m \u001b[0;34m=\u001b[0m \u001b[0;36m0\u001b[0m\u001b[0;34m\u001b[0m\u001b[0m\n\u001b[0;32m--> 988\u001b[0;31m             \u001b[0mself\u001b[0m\u001b[0;34m.\u001b[0m\u001b[0mmove_to\u001b[0m\u001b[0;34m(\u001b[0m\u001b[0mself\u001b[0m\u001b[0;34m.\u001b[0m\u001b[0mcurrent_tip\u001b[0m\u001b[0;34m(\u001b[0m\u001b[0;34m)\u001b[0m\u001b[0;34m.\u001b[0m\u001b[0mtop\u001b[0m\u001b[0;34m(\u001b[0m\u001b[0;36m0\u001b[0m\u001b[0;34m)\u001b[0m\u001b[0;34m)\u001b[0m\u001b[0;34m\u001b[0m\u001b[0m\n\u001b[0m\u001b[1;32m    989\u001b[0m \u001b[0;34m\u001b[0m\u001b[0m\n\u001b[1;32m    990\u001b[0m             \u001b[0;32mfor\u001b[0m \u001b[0mi\u001b[0m \u001b[0;32min\u001b[0m \u001b[0mrange\u001b[0m\u001b[0;34m(\u001b[0m\u001b[0mint\u001b[0m\u001b[0;34m(\u001b[0m\u001b[0mpresses\u001b[0m\u001b[0;34m)\u001b[0m\u001b[0;34m)\u001b[0m\u001b[0;34m:\u001b[0m\u001b[0;34m\u001b[0m\u001b[0m\n",
      "\u001b[0;32m/data/packages/usr/local/lib/python3.6/site-packages/opentrons/legacy_api/instruments/pipette.py\u001b[0m in \u001b[0;36mmove_to\u001b[0;34m(self, location, strategy)\u001b[0m\n\u001b[1;32m    351\u001b[0m             \u001b[0mlocation\u001b[0m\u001b[0;34m,\u001b[0m\u001b[0;34m\u001b[0m\u001b[0m\n\u001b[1;32m    352\u001b[0m             \u001b[0minstrument\u001b[0m\u001b[0;34m=\u001b[0m\u001b[0mself\u001b[0m\u001b[0;34m,\u001b[0m\u001b[0;34m\u001b[0m\u001b[0m\n\u001b[0;32m--> 353\u001b[0;31m             strategy=strategy)\n\u001b[0m\u001b[1;32m    354\u001b[0m \u001b[0;34m\u001b[0m\u001b[0m\n\u001b[1;32m    355\u001b[0m         \u001b[0;32mreturn\u001b[0m \u001b[0mself\u001b[0m\u001b[0;34m\u001b[0m\u001b[0m\n",
      "\u001b[0;32m/data/packages/usr/local/lib/python3.6/site-packages/opentrons/legacy_api/robot/robot.py\u001b[0m in \u001b[0;36mmove_to\u001b[0;34m(self, location, instrument, strategy, **kwargs)\u001b[0m\n\u001b[1;32m    648\u001b[0m                 self.poses = instrument._move(\n\u001b[1;32m    649\u001b[0m                     \u001b[0mself\u001b[0m\u001b[0;34m.\u001b[0m\u001b[0mposes\u001b[0m\u001b[0;34m,\u001b[0m\u001b[0;34m\u001b[0m\u001b[0m\n\u001b[0;32m--> 650\u001b[0;31m                     **coord)\n\u001b[0m\u001b[1;32m    651\u001b[0m \u001b[0;34m\u001b[0m\u001b[0m\n\u001b[1;32m    652\u001b[0m         \u001b[0;32melif\u001b[0m \u001b[0mstrategy\u001b[0m \u001b[0;34m==\u001b[0m \u001b[0;34m'direct'\u001b[0m\u001b[0;34m:\u001b[0m\u001b[0;34m\u001b[0m\u001b[0m\n",
      "\u001b[0;32m/data/packages/usr/local/lib/python3.6/site-packages/opentrons/legacy_api/instruments/pipette.py\u001b[0m in \u001b[0;36m_move\u001b[0;34m(self, pose_tree, x, y, z)\u001b[0m\n\u001b[1;32m   1778\u001b[0m                 \u001b[0mpose_tree\u001b[0m\u001b[0;34m,\u001b[0m\u001b[0;34m\u001b[0m\u001b[0m\n\u001b[1;32m   1779\u001b[0m                 \u001b[0mx\u001b[0m\u001b[0;34m=\u001b[0m\u001b[0m_x\u001b[0m\u001b[0;34m,\u001b[0m\u001b[0;34m\u001b[0m\u001b[0m\n\u001b[0;32m-> 1780\u001b[0;31m                 y=_y)\n\u001b[0m\u001b[1;32m   1781\u001b[0m \u001b[0;34m\u001b[0m\u001b[0m\n\u001b[1;32m   1782\u001b[0m         \u001b[0;32mif\u001b[0m \u001b[0mz\u001b[0m \u001b[0;32mis\u001b[0m \u001b[0;32mnot\u001b[0m \u001b[0;32mNone\u001b[0m\u001b[0;34m:\u001b[0m\u001b[0;34m\u001b[0m\u001b[0m\n",
      "\u001b[0;32m/data/packages/usr/local/lib/python3.6/site-packages/opentrons/legacy_api/robot/mover.py\u001b[0m in \u001b[0;36mmove\u001b[0;34m(self, pose_tree, x, y, z, home_flagged_axes)\u001b[0m\n\u001b[1;32m     66\u001b[0m             \u001b[0;32massert\u001b[0m \u001b[0mz\u001b[0m \u001b[0;32mis\u001b[0m \u001b[0;32mnot\u001b[0m \u001b[0;32mNone\u001b[0m\u001b[0;34m,\u001b[0m \u001b[0;34m\"Value must be set for each axis mapped\"\u001b[0m\u001b[0;34m\u001b[0m\u001b[0m\n\u001b[1;32m     67\u001b[0m             \u001b[0mdriver_target\u001b[0m\u001b[0;34m[\u001b[0m\u001b[0mself\u001b[0m\u001b[0;34m.\u001b[0m\u001b[0m_axis_mapping\u001b[0m\u001b[0;34m[\u001b[0m\u001b[0;34m'z'\u001b[0m\u001b[0;34m]\u001b[0m\u001b[0;34m]\u001b[0m \u001b[0;34m=\u001b[0m \u001b[0mdst_z\u001b[0m\u001b[0;34m\u001b[0m\u001b[0m\n\u001b[0;32m---> 68\u001b[0;31m         \u001b[0mself\u001b[0m\u001b[0;34m.\u001b[0m\u001b[0m_driver\u001b[0m\u001b[0;34m.\u001b[0m\u001b[0mmove\u001b[0m\u001b[0;34m(\u001b[0m\u001b[0mdriver_target\u001b[0m\u001b[0;34m,\u001b[0m \u001b[0mhome_flagged_axes\u001b[0m\u001b[0;34m=\u001b[0m\u001b[0mhome_flagged_axes\u001b[0m\u001b[0;34m)\u001b[0m\u001b[0;34m\u001b[0m\u001b[0m\n\u001b[0m\u001b[1;32m     69\u001b[0m \u001b[0;34m\u001b[0m\u001b[0m\n\u001b[1;32m     70\u001b[0m         \u001b[0;31m# Update pose with the new value. Since stepper motors are open loop\u001b[0m\u001b[0;34m\u001b[0m\u001b[0;34m\u001b[0m\u001b[0m\n",
      "\u001b[0;32m/data/packages/usr/local/lib/python3.6/site-packages/opentrons/drivers/smoothie_drivers/driver_3_0.py\u001b[0m in \u001b[0;36mmove\u001b[0;34m(self, target, home_flagged_axes)\u001b[0m\n\u001b[1;32m   1224\u001b[0m                 \u001b[0;31m# how long the movement is expected to take. A default timeout\u001b[0m\u001b[0;34m\u001b[0m\u001b[0;34m\u001b[0m\u001b[0m\n\u001b[1;32m   1225\u001b[0m                 \u001b[0;31m# of 30 seconds prevents any movements that take longer\u001b[0m\u001b[0;34m\u001b[0m\u001b[0;34m\u001b[0m\u001b[0m\n\u001b[0;32m-> 1226\u001b[0;31m                 \u001b[0mself\u001b[0m\u001b[0;34m.\u001b[0m\u001b[0m_send_command\u001b[0m\u001b[0;34m(\u001b[0m\u001b[0mcommand\u001b[0m\u001b[0;34m,\u001b[0m \u001b[0mtimeout\u001b[0m\u001b[0;34m=\u001b[0m\u001b[0mDEFAULT_MOVEMENT_TIMEOUT\u001b[0m\u001b[0;34m)\u001b[0m\u001b[0;34m\u001b[0m\u001b[0m\n\u001b[0m\u001b[1;32m   1227\u001b[0m             \u001b[0;32mfinally\u001b[0m\u001b[0;34m:\u001b[0m\u001b[0;34m\u001b[0m\u001b[0m\n\u001b[1;32m   1228\u001b[0m                 \u001b[0;31m# dwell pipette motors because they get hot\u001b[0m\u001b[0;34m\u001b[0m\u001b[0;34m\u001b[0m\u001b[0m\n",
      "\u001b[0;32m/data/packages/usr/local/lib/python3.6/site-packages/opentrons/drivers/smoothie_drivers/driver_3_0.py\u001b[0m in \u001b[0;36m_send_command\u001b[0;34m(self, command, timeout)\u001b[0m\n\u001b[1;32m    902\u001b[0m         wait_ret = serial_communication.write_and_return(\n\u001b[1;32m    903\u001b[0m             \u001b[0mGCODES\u001b[0m\u001b[0;34m[\u001b[0m\u001b[0;34m'WAIT'\u001b[0m\u001b[0;34m]\u001b[0m \u001b[0;34m+\u001b[0m \u001b[0mSMOOTHIE_COMMAND_TERMINATOR\u001b[0m\u001b[0;34m,\u001b[0m\u001b[0;34m\u001b[0m\u001b[0m\n\u001b[0;32m--> 904\u001b[0;31m             SMOOTHIE_ACK, self._connection, timeout=12000)\n\u001b[0m\u001b[1;32m    905\u001b[0m         wait_ret = self._remove_unwanted_characters(\n\u001b[1;32m    906\u001b[0m             GCODES['WAIT'], wait_ret)\n",
      "\u001b[0;32m/data/packages/usr/local/lib/python3.6/site-packages/opentrons/drivers/serial_communication.py\u001b[0m in \u001b[0;36mwrite_and_return\u001b[0;34m(command, ack, serial_connection, timeout)\u001b[0m\n\u001b[1;32m    102\u001b[0m     with serial_with_temp_timeout(\n\u001b[1;32m    103\u001b[0m             serial_connection, timeout) as device_connection:\n\u001b[0;32m--> 104\u001b[0;31m         \u001b[0mresponse\u001b[0m \u001b[0;34m=\u001b[0m \u001b[0m_write_to_device_and_return\u001b[0m\u001b[0;34m(\u001b[0m\u001b[0mcommand\u001b[0m\u001b[0;34m,\u001b[0m \u001b[0mack\u001b[0m\u001b[0;34m,\u001b[0m \u001b[0mdevice_connection\u001b[0m\u001b[0;34m)\u001b[0m\u001b[0;34m\u001b[0m\u001b[0m\n\u001b[0m\u001b[1;32m    105\u001b[0m     \u001b[0;32mreturn\u001b[0m \u001b[0mresponse\u001b[0m\u001b[0;34m\u001b[0m\u001b[0m\n\u001b[1;32m    106\u001b[0m \u001b[0;34m\u001b[0m\u001b[0m\n",
      "\u001b[0;32m/data/packages/usr/local/lib/python3.6/site-packages/opentrons/drivers/serial_communication.py\u001b[0m in \u001b[0;36m_write_to_device_and_return\u001b[0;34m(cmd, ack, device_connection)\u001b[0m\n\u001b[1;32m     61\u001b[0m     \u001b[0mlog\u001b[0m\u001b[0;34m.\u001b[0m\u001b[0mdebug\u001b[0m\u001b[0;34m(\u001b[0m\u001b[0;34m'Write -> {}'\u001b[0m\u001b[0;34m.\u001b[0m\u001b[0mformat\u001b[0m\u001b[0;34m(\u001b[0m\u001b[0mcmd\u001b[0m\u001b[0;34m.\u001b[0m\u001b[0mencode\u001b[0m\u001b[0;34m(\u001b[0m\u001b[0;34m)\u001b[0m\u001b[0;34m)\u001b[0m\u001b[0;34m)\u001b[0m\u001b[0;34m\u001b[0m\u001b[0m\n\u001b[1;32m     62\u001b[0m     \u001b[0mdevice_connection\u001b[0m\u001b[0;34m.\u001b[0m\u001b[0mwrite\u001b[0m\u001b[0;34m(\u001b[0m\u001b[0mcmd\u001b[0m\u001b[0;34m.\u001b[0m\u001b[0mencode\u001b[0m\u001b[0;34m(\u001b[0m\u001b[0;34m)\u001b[0m\u001b[0;34m)\u001b[0m\u001b[0;34m\u001b[0m\u001b[0m\n\u001b[0;32m---> 63\u001b[0;31m     \u001b[0mresponse\u001b[0m \u001b[0;34m=\u001b[0m \u001b[0mdevice_connection\u001b[0m\u001b[0;34m.\u001b[0m\u001b[0mread_until\u001b[0m\u001b[0;34m(\u001b[0m\u001b[0mack\u001b[0m\u001b[0;34m.\u001b[0m\u001b[0mencode\u001b[0m\u001b[0;34m(\u001b[0m\u001b[0;34m)\u001b[0m\u001b[0;34m)\u001b[0m\u001b[0;34m\u001b[0m\u001b[0m\n\u001b[0m\u001b[1;32m     64\u001b[0m     \u001b[0mlog\u001b[0m\u001b[0;34m.\u001b[0m\u001b[0mdebug\u001b[0m\u001b[0;34m(\u001b[0m\u001b[0;34m'Read <- {}'\u001b[0m\u001b[0;34m.\u001b[0m\u001b[0mformat\u001b[0m\u001b[0;34m(\u001b[0m\u001b[0mresponse\u001b[0m\u001b[0;34m)\u001b[0m\u001b[0;34m)\u001b[0m\u001b[0;34m\u001b[0m\u001b[0m\n\u001b[1;32m     65\u001b[0m     \u001b[0;32mif\u001b[0m \u001b[0mack\u001b[0m\u001b[0;34m.\u001b[0m\u001b[0mencode\u001b[0m\u001b[0;34m(\u001b[0m\u001b[0;34m)\u001b[0m \u001b[0;32mnot\u001b[0m \u001b[0;32min\u001b[0m \u001b[0mresponse\u001b[0m\u001b[0;34m:\u001b[0m\u001b[0;34m\u001b[0m\u001b[0m\n",
      "\u001b[0;32m/usr/local/lib/python3.6/site-packages/serial/serialutil.py\u001b[0m in \u001b[0;36mread_until\u001b[0;34m(self, terminator, size)\u001b[0m\n\u001b[1;32m    638\u001b[0m         \u001b[0mline\u001b[0m \u001b[0;34m=\u001b[0m \u001b[0mbytearray\u001b[0m\u001b[0;34m(\u001b[0m\u001b[0;34m)\u001b[0m\u001b[0;34m\u001b[0m\u001b[0m\n\u001b[1;32m    639\u001b[0m         \u001b[0;32mwhile\u001b[0m \u001b[0;32mTrue\u001b[0m\u001b[0;34m:\u001b[0m\u001b[0;34m\u001b[0m\u001b[0m\n\u001b[0;32m--> 640\u001b[0;31m             \u001b[0mc\u001b[0m \u001b[0;34m=\u001b[0m \u001b[0mself\u001b[0m\u001b[0;34m.\u001b[0m\u001b[0mread\u001b[0m\u001b[0;34m(\u001b[0m\u001b[0;36m1\u001b[0m\u001b[0;34m)\u001b[0m\u001b[0;34m\u001b[0m\u001b[0m\n\u001b[0m\u001b[1;32m    641\u001b[0m             \u001b[0;32mif\u001b[0m \u001b[0mc\u001b[0m\u001b[0;34m:\u001b[0m\u001b[0;34m\u001b[0m\u001b[0m\n\u001b[1;32m    642\u001b[0m                 \u001b[0mline\u001b[0m \u001b[0;34m+=\u001b[0m \u001b[0mc\u001b[0m\u001b[0;34m\u001b[0m\u001b[0m\n",
      "\u001b[0;32m/usr/local/lib/python3.6/site-packages/serial/serialposix.py\u001b[0m in \u001b[0;36mread\u001b[0;34m(self, size)\u001b[0m\n\u001b[1;32m    470\u001b[0m         \u001b[0;32mwhile\u001b[0m \u001b[0mlen\u001b[0m\u001b[0;34m(\u001b[0m\u001b[0mread\u001b[0m\u001b[0;34m)\u001b[0m \u001b[0;34m<\u001b[0m \u001b[0msize\u001b[0m\u001b[0;34m:\u001b[0m\u001b[0;34m\u001b[0m\u001b[0m\n\u001b[1;32m    471\u001b[0m             \u001b[0;32mtry\u001b[0m\u001b[0;34m:\u001b[0m\u001b[0;34m\u001b[0m\u001b[0m\n\u001b[0;32m--> 472\u001b[0;31m                 \u001b[0mready\u001b[0m\u001b[0;34m,\u001b[0m \u001b[0m_\u001b[0m\u001b[0;34m,\u001b[0m \u001b[0m_\u001b[0m \u001b[0;34m=\u001b[0m \u001b[0mselect\u001b[0m\u001b[0;34m.\u001b[0m\u001b[0mselect\u001b[0m\u001b[0;34m(\u001b[0m\u001b[0;34m[\u001b[0m\u001b[0mself\u001b[0m\u001b[0;34m.\u001b[0m\u001b[0mfd\u001b[0m\u001b[0;34m,\u001b[0m \u001b[0mself\u001b[0m\u001b[0;34m.\u001b[0m\u001b[0mpipe_abort_read_r\u001b[0m\u001b[0;34m]\u001b[0m\u001b[0;34m,\u001b[0m \u001b[0;34m[\u001b[0m\u001b[0;34m]\u001b[0m\u001b[0;34m,\u001b[0m \u001b[0;34m[\u001b[0m\u001b[0;34m]\u001b[0m\u001b[0;34m,\u001b[0m \u001b[0mtimeout\u001b[0m\u001b[0;34m.\u001b[0m\u001b[0mtime_left\u001b[0m\u001b[0;34m(\u001b[0m\u001b[0;34m)\u001b[0m\u001b[0;34m)\u001b[0m\u001b[0;34m\u001b[0m\u001b[0m\n\u001b[0m\u001b[1;32m    473\u001b[0m                 \u001b[0;32mif\u001b[0m \u001b[0mself\u001b[0m\u001b[0;34m.\u001b[0m\u001b[0mpipe_abort_read_r\u001b[0m \u001b[0;32min\u001b[0m \u001b[0mready\u001b[0m\u001b[0;34m:\u001b[0m\u001b[0;34m\u001b[0m\u001b[0m\n\u001b[1;32m    474\u001b[0m                     \u001b[0mos\u001b[0m\u001b[0;34m.\u001b[0m\u001b[0mread\u001b[0m\u001b[0;34m(\u001b[0m\u001b[0mself\u001b[0m\u001b[0;34m.\u001b[0m\u001b[0mpipe_abort_read_r\u001b[0m\u001b[0;34m,\u001b[0m \u001b[0;36m1000\u001b[0m\u001b[0;34m)\u001b[0m\u001b[0;34m\u001b[0m\u001b[0m\n",
      "\u001b[0;31mKeyboardInterrupt\u001b[0m: "
     ]
    }
   ],
   "source": [
    "robot.home()\n",
    "pipette_300.pick_up_tip(tiprack.wells(\"A1\"))\n",
    "wells = [\"A1\",\"A2\",\"A3\",\"A4\",\"A5\",\"A6\",\"A7\",\"A8\",\"A9\", \"A10\", \"A11\", \"A12\"]\n",
    "pipette_300.aspirate(300, ep_rack.wells(\"F2\").bottom(3))\n",
    "vol = 0;\n",
    "for i in range(len(wells)):\n",
    "    if vol >= 300:\n",
    "        pipette_300.aspirate(300, ep_rack.wells(\"A3\").bottom(3))\n",
    "        vol = 0;\n",
    "    pipette_300.dispense(100, plate.wells(\"A1\").top(-1))\n",
    "    vol = vol+100;\n",
    "\n",
    "    "
   ]
  },
  {
   "cell_type": "code",
   "execution_count": 20,
   "metadata": {},
   "outputs": [
    {
     "ename": "KeyboardInterrupt",
     "evalue": "",
     "output_type": "error",
     "traceback": [
      "\u001b[0;31m\u001b[0m",
      "\u001b[0;31mKeyboardInterrupt\u001b[0mTraceback (most recent call last)",
      "\u001b[0;32m<ipython-input-20-b8847252e42d>\u001b[0m in \u001b[0;36m<module>\u001b[0;34m()\u001b[0m\n\u001b[0;32m----> 1\u001b[0;31m \u001b[0mpipette_300\u001b[0m\u001b[0;34m.\u001b[0m\u001b[0mmove_to\u001b[0m\u001b[0;34m(\u001b[0m\u001b[0mplate\u001b[0m\u001b[0;34m.\u001b[0m\u001b[0mwells\u001b[0m\u001b[0;34m(\u001b[0m\u001b[0;34m'A1'\u001b[0m\u001b[0;34m)\u001b[0m\u001b[0;34m.\u001b[0m\u001b[0mtop\u001b[0m\u001b[0;34m(\u001b[0m\u001b[0;36m10\u001b[0m\u001b[0;34m)\u001b[0m\u001b[0;34m)\u001b[0m\u001b[0;34m\u001b[0m\u001b[0m\n\u001b[0m",
      "\u001b[0;32m/data/packages/usr/local/lib/python3.6/site-packages/opentrons/legacy_api/instruments/pipette.py\u001b[0m in \u001b[0;36mmove_to\u001b[0;34m(self, location, strategy)\u001b[0m\n\u001b[1;32m    351\u001b[0m             \u001b[0mlocation\u001b[0m\u001b[0;34m,\u001b[0m\u001b[0;34m\u001b[0m\u001b[0m\n\u001b[1;32m    352\u001b[0m             \u001b[0minstrument\u001b[0m\u001b[0;34m=\u001b[0m\u001b[0mself\u001b[0m\u001b[0;34m,\u001b[0m\u001b[0;34m\u001b[0m\u001b[0m\n\u001b[0;32m--> 353\u001b[0;31m             strategy=strategy)\n\u001b[0m\u001b[1;32m    354\u001b[0m \u001b[0;34m\u001b[0m\u001b[0m\n\u001b[1;32m    355\u001b[0m         \u001b[0;32mreturn\u001b[0m \u001b[0mself\u001b[0m\u001b[0;34m\u001b[0m\u001b[0m\n",
      "\u001b[0;32m/data/packages/usr/local/lib/python3.6/site-packages/opentrons/legacy_api/robot/robot.py\u001b[0m in \u001b[0;36mmove_to\u001b[0;34m(self, location, instrument, strategy, **kwargs)\u001b[0m\n\u001b[1;32m    648\u001b[0m                 self.poses = instrument._move(\n\u001b[1;32m    649\u001b[0m                     \u001b[0mself\u001b[0m\u001b[0;34m.\u001b[0m\u001b[0mposes\u001b[0m\u001b[0;34m,\u001b[0m\u001b[0;34m\u001b[0m\u001b[0m\n\u001b[0;32m--> 650\u001b[0;31m                     **coord)\n\u001b[0m\u001b[1;32m    651\u001b[0m \u001b[0;34m\u001b[0m\u001b[0m\n\u001b[1;32m    652\u001b[0m         \u001b[0;32melif\u001b[0m \u001b[0mstrategy\u001b[0m \u001b[0;34m==\u001b[0m \u001b[0;34m'direct'\u001b[0m\u001b[0;34m:\u001b[0m\u001b[0;34m\u001b[0m\u001b[0m\n",
      "\u001b[0;32m/data/packages/usr/local/lib/python3.6/site-packages/opentrons/legacy_api/instruments/pipette.py\u001b[0m in \u001b[0;36m_move\u001b[0;34m(self, pose_tree, x, y, z)\u001b[0m\n\u001b[1;32m   1778\u001b[0m                 \u001b[0mpose_tree\u001b[0m\u001b[0;34m,\u001b[0m\u001b[0;34m\u001b[0m\u001b[0m\n\u001b[1;32m   1779\u001b[0m                 \u001b[0mx\u001b[0m\u001b[0;34m=\u001b[0m\u001b[0m_x\u001b[0m\u001b[0;34m,\u001b[0m\u001b[0;34m\u001b[0m\u001b[0m\n\u001b[0;32m-> 1780\u001b[0;31m                 y=_y)\n\u001b[0m\u001b[1;32m   1781\u001b[0m \u001b[0;34m\u001b[0m\u001b[0m\n\u001b[1;32m   1782\u001b[0m         \u001b[0;32mif\u001b[0m \u001b[0mz\u001b[0m \u001b[0;32mis\u001b[0m \u001b[0;32mnot\u001b[0m \u001b[0;32mNone\u001b[0m\u001b[0;34m:\u001b[0m\u001b[0;34m\u001b[0m\u001b[0m\n",
      "\u001b[0;32m/data/packages/usr/local/lib/python3.6/site-packages/opentrons/legacy_api/robot/mover.py\u001b[0m in \u001b[0;36mmove\u001b[0;34m(self, pose_tree, x, y, z, home_flagged_axes)\u001b[0m\n\u001b[1;32m     66\u001b[0m             \u001b[0;32massert\u001b[0m \u001b[0mz\u001b[0m \u001b[0;32mis\u001b[0m \u001b[0;32mnot\u001b[0m \u001b[0;32mNone\u001b[0m\u001b[0;34m,\u001b[0m \u001b[0;34m\"Value must be set for each axis mapped\"\u001b[0m\u001b[0;34m\u001b[0m\u001b[0m\n\u001b[1;32m     67\u001b[0m             \u001b[0mdriver_target\u001b[0m\u001b[0;34m[\u001b[0m\u001b[0mself\u001b[0m\u001b[0;34m.\u001b[0m\u001b[0m_axis_mapping\u001b[0m\u001b[0;34m[\u001b[0m\u001b[0;34m'z'\u001b[0m\u001b[0;34m]\u001b[0m\u001b[0;34m]\u001b[0m \u001b[0;34m=\u001b[0m \u001b[0mdst_z\u001b[0m\u001b[0;34m\u001b[0m\u001b[0m\n\u001b[0;32m---> 68\u001b[0;31m         \u001b[0mself\u001b[0m\u001b[0;34m.\u001b[0m\u001b[0m_driver\u001b[0m\u001b[0;34m.\u001b[0m\u001b[0mmove\u001b[0m\u001b[0;34m(\u001b[0m\u001b[0mdriver_target\u001b[0m\u001b[0;34m,\u001b[0m \u001b[0mhome_flagged_axes\u001b[0m\u001b[0;34m=\u001b[0m\u001b[0mhome_flagged_axes\u001b[0m\u001b[0;34m)\u001b[0m\u001b[0;34m\u001b[0m\u001b[0m\n\u001b[0m\u001b[1;32m     69\u001b[0m \u001b[0;34m\u001b[0m\u001b[0m\n\u001b[1;32m     70\u001b[0m         \u001b[0;31m# Update pose with the new value. Since stepper motors are open loop\u001b[0m\u001b[0;34m\u001b[0m\u001b[0;34m\u001b[0m\u001b[0m\n",
      "\u001b[0;32m/data/packages/usr/local/lib/python3.6/site-packages/opentrons/drivers/smoothie_drivers/driver_3_0.py\u001b[0m in \u001b[0;36mmove\u001b[0;34m(self, target, home_flagged_axes)\u001b[0m\n\u001b[1;32m   1224\u001b[0m                 \u001b[0;31m# how long the movement is expected to take. A default timeout\u001b[0m\u001b[0;34m\u001b[0m\u001b[0;34m\u001b[0m\u001b[0m\n\u001b[1;32m   1225\u001b[0m                 \u001b[0;31m# of 30 seconds prevents any movements that take longer\u001b[0m\u001b[0;34m\u001b[0m\u001b[0;34m\u001b[0m\u001b[0m\n\u001b[0;32m-> 1226\u001b[0;31m                 \u001b[0mself\u001b[0m\u001b[0;34m.\u001b[0m\u001b[0m_send_command\u001b[0m\u001b[0;34m(\u001b[0m\u001b[0mcommand\u001b[0m\u001b[0;34m,\u001b[0m \u001b[0mtimeout\u001b[0m\u001b[0;34m=\u001b[0m\u001b[0mDEFAULT_MOVEMENT_TIMEOUT\u001b[0m\u001b[0;34m)\u001b[0m\u001b[0;34m\u001b[0m\u001b[0m\n\u001b[0m\u001b[1;32m   1227\u001b[0m             \u001b[0;32mfinally\u001b[0m\u001b[0;34m:\u001b[0m\u001b[0;34m\u001b[0m\u001b[0m\n\u001b[1;32m   1228\u001b[0m                 \u001b[0;31m# dwell pipette motors because they get hot\u001b[0m\u001b[0;34m\u001b[0m\u001b[0;34m\u001b[0m\u001b[0m\n",
      "\u001b[0;32m/data/packages/usr/local/lib/python3.6/site-packages/opentrons/drivers/smoothie_drivers/driver_3_0.py\u001b[0m in \u001b[0;36m_send_command\u001b[0;34m(self, command, timeout)\u001b[0m\n\u001b[1;32m    902\u001b[0m         wait_ret = serial_communication.write_and_return(\n\u001b[1;32m    903\u001b[0m             \u001b[0mGCODES\u001b[0m\u001b[0;34m[\u001b[0m\u001b[0;34m'WAIT'\u001b[0m\u001b[0;34m]\u001b[0m \u001b[0;34m+\u001b[0m \u001b[0mSMOOTHIE_COMMAND_TERMINATOR\u001b[0m\u001b[0;34m,\u001b[0m\u001b[0;34m\u001b[0m\u001b[0m\n\u001b[0;32m--> 904\u001b[0;31m             SMOOTHIE_ACK, self._connection, timeout=12000)\n\u001b[0m\u001b[1;32m    905\u001b[0m         wait_ret = self._remove_unwanted_characters(\n\u001b[1;32m    906\u001b[0m             GCODES['WAIT'], wait_ret)\n",
      "\u001b[0;32m/data/packages/usr/local/lib/python3.6/site-packages/opentrons/drivers/serial_communication.py\u001b[0m in \u001b[0;36mwrite_and_return\u001b[0;34m(command, ack, serial_connection, timeout)\u001b[0m\n\u001b[1;32m    102\u001b[0m     with serial_with_temp_timeout(\n\u001b[1;32m    103\u001b[0m             serial_connection, timeout) as device_connection:\n\u001b[0;32m--> 104\u001b[0;31m         \u001b[0mresponse\u001b[0m \u001b[0;34m=\u001b[0m \u001b[0m_write_to_device_and_return\u001b[0m\u001b[0;34m(\u001b[0m\u001b[0mcommand\u001b[0m\u001b[0;34m,\u001b[0m \u001b[0mack\u001b[0m\u001b[0;34m,\u001b[0m \u001b[0mdevice_connection\u001b[0m\u001b[0;34m)\u001b[0m\u001b[0;34m\u001b[0m\u001b[0m\n\u001b[0m\u001b[1;32m    105\u001b[0m     \u001b[0;32mreturn\u001b[0m \u001b[0mresponse\u001b[0m\u001b[0;34m\u001b[0m\u001b[0m\n\u001b[1;32m    106\u001b[0m \u001b[0;34m\u001b[0m\u001b[0m\n",
      "\u001b[0;32m/data/packages/usr/local/lib/python3.6/site-packages/opentrons/drivers/serial_communication.py\u001b[0m in \u001b[0;36m_write_to_device_and_return\u001b[0;34m(cmd, ack, device_connection)\u001b[0m\n\u001b[1;32m     61\u001b[0m     \u001b[0mlog\u001b[0m\u001b[0;34m.\u001b[0m\u001b[0mdebug\u001b[0m\u001b[0;34m(\u001b[0m\u001b[0;34m'Write -> {}'\u001b[0m\u001b[0;34m.\u001b[0m\u001b[0mformat\u001b[0m\u001b[0;34m(\u001b[0m\u001b[0mcmd\u001b[0m\u001b[0;34m.\u001b[0m\u001b[0mencode\u001b[0m\u001b[0;34m(\u001b[0m\u001b[0;34m)\u001b[0m\u001b[0;34m)\u001b[0m\u001b[0;34m)\u001b[0m\u001b[0;34m\u001b[0m\u001b[0m\n\u001b[1;32m     62\u001b[0m     \u001b[0mdevice_connection\u001b[0m\u001b[0;34m.\u001b[0m\u001b[0mwrite\u001b[0m\u001b[0;34m(\u001b[0m\u001b[0mcmd\u001b[0m\u001b[0;34m.\u001b[0m\u001b[0mencode\u001b[0m\u001b[0;34m(\u001b[0m\u001b[0;34m)\u001b[0m\u001b[0;34m)\u001b[0m\u001b[0;34m\u001b[0m\u001b[0m\n\u001b[0;32m---> 63\u001b[0;31m     \u001b[0mresponse\u001b[0m \u001b[0;34m=\u001b[0m \u001b[0mdevice_connection\u001b[0m\u001b[0;34m.\u001b[0m\u001b[0mread_until\u001b[0m\u001b[0;34m(\u001b[0m\u001b[0mack\u001b[0m\u001b[0;34m.\u001b[0m\u001b[0mencode\u001b[0m\u001b[0;34m(\u001b[0m\u001b[0;34m)\u001b[0m\u001b[0;34m)\u001b[0m\u001b[0;34m\u001b[0m\u001b[0m\n\u001b[0m\u001b[1;32m     64\u001b[0m     \u001b[0mlog\u001b[0m\u001b[0;34m.\u001b[0m\u001b[0mdebug\u001b[0m\u001b[0;34m(\u001b[0m\u001b[0;34m'Read <- {}'\u001b[0m\u001b[0;34m.\u001b[0m\u001b[0mformat\u001b[0m\u001b[0;34m(\u001b[0m\u001b[0mresponse\u001b[0m\u001b[0;34m)\u001b[0m\u001b[0;34m)\u001b[0m\u001b[0;34m\u001b[0m\u001b[0m\n\u001b[1;32m     65\u001b[0m     \u001b[0;32mif\u001b[0m \u001b[0mack\u001b[0m\u001b[0;34m.\u001b[0m\u001b[0mencode\u001b[0m\u001b[0;34m(\u001b[0m\u001b[0;34m)\u001b[0m \u001b[0;32mnot\u001b[0m \u001b[0;32min\u001b[0m \u001b[0mresponse\u001b[0m\u001b[0;34m:\u001b[0m\u001b[0;34m\u001b[0m\u001b[0m\n",
      "\u001b[0;32m/usr/local/lib/python3.6/site-packages/serial/serialutil.py\u001b[0m in \u001b[0;36mread_until\u001b[0;34m(self, terminator, size)\u001b[0m\n\u001b[1;32m    638\u001b[0m         \u001b[0mline\u001b[0m \u001b[0;34m=\u001b[0m \u001b[0mbytearray\u001b[0m\u001b[0;34m(\u001b[0m\u001b[0;34m)\u001b[0m\u001b[0;34m\u001b[0m\u001b[0m\n\u001b[1;32m    639\u001b[0m         \u001b[0;32mwhile\u001b[0m \u001b[0;32mTrue\u001b[0m\u001b[0;34m:\u001b[0m\u001b[0;34m\u001b[0m\u001b[0m\n\u001b[0;32m--> 640\u001b[0;31m             \u001b[0mc\u001b[0m \u001b[0;34m=\u001b[0m \u001b[0mself\u001b[0m\u001b[0;34m.\u001b[0m\u001b[0mread\u001b[0m\u001b[0;34m(\u001b[0m\u001b[0;36m1\u001b[0m\u001b[0;34m)\u001b[0m\u001b[0;34m\u001b[0m\u001b[0m\n\u001b[0m\u001b[1;32m    641\u001b[0m             \u001b[0;32mif\u001b[0m \u001b[0mc\u001b[0m\u001b[0;34m:\u001b[0m\u001b[0;34m\u001b[0m\u001b[0m\n\u001b[1;32m    642\u001b[0m                 \u001b[0mline\u001b[0m \u001b[0;34m+=\u001b[0m \u001b[0mc\u001b[0m\u001b[0;34m\u001b[0m\u001b[0m\n",
      "\u001b[0;32m/usr/local/lib/python3.6/site-packages/serial/serialposix.py\u001b[0m in \u001b[0;36mread\u001b[0;34m(self, size)\u001b[0m\n\u001b[1;32m    470\u001b[0m         \u001b[0;32mwhile\u001b[0m \u001b[0mlen\u001b[0m\u001b[0;34m(\u001b[0m\u001b[0mread\u001b[0m\u001b[0;34m)\u001b[0m \u001b[0;34m<\u001b[0m \u001b[0msize\u001b[0m\u001b[0;34m:\u001b[0m\u001b[0;34m\u001b[0m\u001b[0m\n\u001b[1;32m    471\u001b[0m             \u001b[0;32mtry\u001b[0m\u001b[0;34m:\u001b[0m\u001b[0;34m\u001b[0m\u001b[0m\n\u001b[0;32m--> 472\u001b[0;31m                 \u001b[0mready\u001b[0m\u001b[0;34m,\u001b[0m \u001b[0m_\u001b[0m\u001b[0;34m,\u001b[0m \u001b[0m_\u001b[0m \u001b[0;34m=\u001b[0m \u001b[0mselect\u001b[0m\u001b[0;34m.\u001b[0m\u001b[0mselect\u001b[0m\u001b[0;34m(\u001b[0m\u001b[0;34m[\u001b[0m\u001b[0mself\u001b[0m\u001b[0;34m.\u001b[0m\u001b[0mfd\u001b[0m\u001b[0;34m,\u001b[0m \u001b[0mself\u001b[0m\u001b[0;34m.\u001b[0m\u001b[0mpipe_abort_read_r\u001b[0m\u001b[0;34m]\u001b[0m\u001b[0;34m,\u001b[0m \u001b[0;34m[\u001b[0m\u001b[0;34m]\u001b[0m\u001b[0;34m,\u001b[0m \u001b[0;34m[\u001b[0m\u001b[0;34m]\u001b[0m\u001b[0;34m,\u001b[0m \u001b[0mtimeout\u001b[0m\u001b[0;34m.\u001b[0m\u001b[0mtime_left\u001b[0m\u001b[0;34m(\u001b[0m\u001b[0;34m)\u001b[0m\u001b[0;34m)\u001b[0m\u001b[0;34m\u001b[0m\u001b[0m\n\u001b[0m\u001b[1;32m    473\u001b[0m                 \u001b[0;32mif\u001b[0m \u001b[0mself\u001b[0m\u001b[0;34m.\u001b[0m\u001b[0mpipe_abort_read_r\u001b[0m \u001b[0;32min\u001b[0m \u001b[0mready\u001b[0m\u001b[0;34m:\u001b[0m\u001b[0;34m\u001b[0m\u001b[0m\n\u001b[1;32m    474\u001b[0m                     \u001b[0mos\u001b[0m\u001b[0;34m.\u001b[0m\u001b[0mread\u001b[0m\u001b[0;34m(\u001b[0m\u001b[0mself\u001b[0m\u001b[0;34m.\u001b[0m\u001b[0mpipe_abort_read_r\u001b[0m\u001b[0;34m,\u001b[0m \u001b[0;36m1000\u001b[0m\u001b[0;34m)\u001b[0m\u001b[0;34m\u001b[0m\u001b[0m\n",
      "\u001b[0;31mKeyboardInterrupt\u001b[0m: "
     ]
    }
   ],
   "source": [
    "pipette_300.move_to(plate.wells('A1').top(10))"
   ]
  },
  {
   "cell_type": "code",
   "execution_count": 15,
   "metadata": {},
   "outputs": [
    {
     "name": "stderr",
     "output_type": "stream",
     "text": [
      "required 1 retries for M907 A0.1 B0.05 C0.05 X1.25 Y0.3 Z0.1 G4P0.005 G28.2X\n"
     ]
    }
   ],
   "source": [
    "robot.home()"
   ]
  },
  {
   "cell_type": "code",
   "execution_count": 13,
   "metadata": {},
   "outputs": [
    {
     "name": "stdout",
     "output_type": "stream",
     "text": [
      "300\n"
     ]
    }
   ],
   "source": [
    "\n",
    "if vol == 300:\n",
    "    print(\"hello\")\n",
    "vol = vol+100;\n",
    "print(vol)"
   ]
  },
  {
   "cell_type": "code",
   "execution_count": 21,
   "metadata": {},
   "outputs": [],
   "source": [
    "robot.home()"
   ]
  },
  {
   "cell_type": "code",
   "execution_count": null,
   "metadata": {},
   "outputs": [],
   "source": []
  }
 ],
 "metadata": {
  "kernelspec": {
   "display_name": "Python 3",
   "language": "python",
   "name": "python3"
  },
  "language_info": {
   "codemirror_mode": {
    "name": "ipython",
    "version": 3
   },
   "file_extension": ".py",
   "mimetype": "text/x-python",
   "name": "python",
   "nbconvert_exporter": "python",
   "pygments_lexer": "ipython3",
   "version": "3.6.3"
  }
 },
 "nbformat": 4,
 "nbformat_minor": 2
}
