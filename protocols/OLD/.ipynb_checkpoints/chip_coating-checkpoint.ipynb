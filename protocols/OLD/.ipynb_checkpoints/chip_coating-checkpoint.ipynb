{
 "cells": [
  {
   "cell_type": "code",
   "execution_count": null,
   "metadata": {},
   "outputs": [],
   "source": [
    "from opentrons import labware, instruments, robot, containers, instruments\n",
    "\n",
    "\n",
    "# metadata\n",
    "metadata = {\n",
    "    'protocolName': 'Chip_coating_1',\n",
    "    'author': 'Daniel Nakhaee-Zadeh Gutierrez',\n",
    "    'description': 'Protocol used to coat the PDMS membrane of the AX6 LOC chip',\n",
    "}\n",
    "\n",
    "# labware\n",
    "plate = labware.load('ax61','3')\n",
    "tiprack = labware.load('opentrons-tiprack-300ul', '1')\n",
    "tuberack = labware.load('opentrons-tuberack-50ml', '6')\n",
    "ep_rack = labware.load('opentrons-tuberack-2ml-eppendorf','5')\n",
    "\n",
    "\n",
    "# pipettes\n",
    "pipette_300 = instruments.P300_Single(mount='left', tip_racks=[tiprack])\n",
    "pipette_50 = instruments.P50_Single(mount='right', tip_racks=[tiprack])\n",
    "\n",
    "pipette_50.pick_up_tip(tiprack.wells('A2'))\n",
    "pipette_50.move_to(plate.wells('A1').top())\n",
    "pipette_50.move_to(plate.wells('C1').top())\n",
    "pipette_50.move_to(plate.wells('F1').top())\n",
    "pipette_50.transfer(10, ep_rack.wells('A1').top(), plate.wells('B1').top())\n",
    "pipette_50.transfer(10, tuberack.wells('A1').top(), plate.wells('B1').top())\n",
    "robot.home()  "
   ]
  }
 ],
 "metadata": {
  "kernelspec": {
   "display_name": "Python 3",
   "language": "python",
   "name": "python3"
  },
  "language_info": {
   "codemirror_mode": {
    "name": "ipython",
    "version": 3
   },
   "file_extension": ".py",
   "mimetype": "text/x-python",
   "name": "python",
   "nbconvert_exporter": "python",
   "pygments_lexer": "ipython3",
   "version": "3.6.3"
  }
 },
 "nbformat": 4,
 "nbformat_minor": 2
}
