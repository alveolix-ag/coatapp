{
 "cells": [
  {
   "cell_type": "code",
   "execution_count": 5,
   "metadata": {},
   "outputs": [
    {
     "name": "stdout",
     "output_type": "stream",
     "text": [
      "set robot speed to fast (Enter 1), medium (Enter 2) or slow (Enter 3)2\n",
      "Number of chips to coat (1,2 or 3)3\n",
      "Coating Apical only (Enter 1), or Coating Apical and Basal side (Enter 2)1\n",
      "Finishing run\n"
     ]
    }
   ],
   "source": [
    "from opentrons import labware, instruments, robot, containers\n",
    "import signal\n",
    "import sys\n",
    "\n",
    "# metadata\n",
    "metadata = {\n",
    "    'protocolName': 'Chip_coating_3',\n",
    "    'author': 'Daniel Nakhaee-Zadeh Gutierrez',\n",
    "    'description': 'Protocol used to coat the PDMS membrane of the AX6 LOC chip',\n",
    "}\n",
    "\n",
    "#Connect to Robot\n",
    "robot.connect()\n",
    "robot.home() #home robot axes\n",
    "\n",
    "#set motor speed\n",
    "slow_speed = {'x': 100, 'y': 100, 'z': 20, 'a': 20, 'b': 10, 'c': 10}\n",
    "fast_speed = {'x': 500, 'y': 300, 'z': 100, 'a': 100, 'b': 40, 'c': 40}\n",
    "medium_speed = {'x': 300, 'y': 200, 'z': 75, 'a': 75, 'b': 25, 'c': 25}\n",
    "speed_conf = int(input('set robot speed to fast (Enter 1), medium (Enter 2) or slow (Enter 3)'))\n",
    "if speed_conf ==1:\n",
    "    speed_set = fast_speed\n",
    "elif speed_conf ==2:\n",
    "    speed_set = medium_speed\n",
    "elif speed_conf ==3:\n",
    "    speed_set = slow_speed\n",
    "    \n",
    "robot.head_speed(combined_speed=max(speed_set.values()),**speed_set)\n",
    "\n",
    "#Number of chips to coat\n",
    "num_chips = int(input('Number of chips to coat (1,2 or 3)'))\n",
    "\n",
    "# labware\n",
    "if 'ax_6' not in locals():\n",
    "    ax_6 = labware.load('ax61','3')\n",
    "if 'tiprack' not in locals():\n",
    "    tiprack = labware.load('opentrons-tiprack-300ul', '1')\n",
    "if 'tuberack' not in locals():\n",
    "    tuberack = labware.load('opentrons-tuberack-50ml', '6')\n",
    "if 'ep_rack' not in locals():\n",
    "    ep_rack = labware.load('opentrons-tuberack-2ml-eppendorf','5')\n",
    "\n",
    "\n",
    "# pipettes\n",
    "if 'pipette_300' not in locals():\n",
    "    pipette_300 = instruments.P300_Single(mount='left', tip_racks=[tiprack])\n",
    "if 'pipette_50' not in locals():\n",
    "    pipette_50 = instruments.P50_Single(mount='right', tip_racks=[tiprack])\n",
    "\n",
    "#protocol\n",
    "while 1:\n",
    "    side_to_coat = int(input(\"Coating Apical only (Enter 1), or Coating Apical and Basal side (Enter 2)\"))\n",
    "    if side_to_coat != 2 and side_to_coat != 1:\n",
    "        print('Error - Please enter a correct value (1 or 2)')\n",
    "    else:\n",
    "        break\n",
    "\n",
    "initial_volume = 12*6*num_chips\n",
    "wells = [\"A1\",\"B1\",\"C1\",\"D1\",\"E1\",\"F1\",\"A2\",\"B2\",\"C2\",\"D2\",\"E2\",\"F2\",\"A3\",\"B3\",\"C3\",\"D3\",\"E3\",\"F3\"]\n",
    "\n",
    "pipette_300.pick_up_tip(tiprack.wells('A1'))\n",
    "pipette_300.aspirate(initial_volume, ep_rack.wells('A1').bottom(3))\n",
    "for i in range(0, (6*num_chips)):\n",
    "    pipette_300.dispense(12, ax_6.wells(wells[i]).top(-0.5))\n",
    "    \n",
    "if side_to_coat == 1:\n",
    "    print('Finishing run')\n",
    "    pipette_300.drop_tip()\n",
    "    robot.home()\n",
    "elif side_to_coat == 2:\n",
    "    pipette_300.move_to(ep_rack.wells('A1').top(20))\n",
    "    print(\"Flip Chip Holder, rotating around its shorter side\")\n",
    "    input('Press enter when chip is flipped...')\n",
    "    pipette_300.aspirate(initial_volume, ep_rack.wells('A1').bottom(3))\n",
    "    for i in range(0 , (6*num_chips)):\n",
    "        pipette_300.dispense(12, ax_6.wells(wells[i]).top(-0.5))\n",
    "    print('Finishing run')\n",
    "    pipette_300.drop_tip()\n",
    "    robot.home()"
   ]
  },
  {
   "cell_type": "code",
   "execution_count": 3,
   "metadata": {},
   "outputs": [
    {
     "name": "stderr",
     "output_type": "stream",
     "text": [
      "Cannot drop tip without a tip attached.\n"
     ]
    },
    {
     "data": {
      "text/plain": [
       "<opentrons.legacy_api.instruments.pipette.Pipette at 0x6faa1490>"
      ]
     },
     "execution_count": 3,
     "metadata": {},
     "output_type": "execute_result"
    }
   ],
   "source": [
    "pipette_300.drop_tip()"
   ]
  },
  {
   "cell_type": "code",
   "execution_count": 2,
   "metadata": {},
   "outputs": [
    {
     "name": "stdout",
     "output_type": "stream",
     "text": [
      "/data/user_storage/opentrons_data/jupyter\n"
     ]
    }
   ],
   "source": [
    "import os\n",
    "cwd = os.getcwd()\n",
    "print(cwd)"
   ]
  },
  {
   "cell_type": "code",
   "execution_count": null,
   "metadata": {},
   "outputs": [],
   "source": []
  }
 ],
 "metadata": {
  "kernelspec": {
   "display_name": "Python 3",
   "language": "python",
   "name": "python3"
  },
  "language_info": {
   "codemirror_mode": {
    "name": "ipython",
    "version": 3
   },
   "file_extension": ".py",
   "mimetype": "text/x-python",
   "name": "python",
   "nbconvert_exporter": "python",
   "pygments_lexer": "ipython3",
   "version": "3.6.3"
  }
 },
 "nbformat": 4,
 "nbformat_minor": 2
}
