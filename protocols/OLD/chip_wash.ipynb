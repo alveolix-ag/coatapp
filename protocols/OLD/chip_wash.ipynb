{
 "cells": [
  {
   "cell_type": "code",
   "execution_count": null,
   "metadata": {},
   "outputs": [],
   "source": [
    "from opentrons import labware, instruments, robot, containers\n",
    "import signal\n",
    "import sys\n",
    "\n",
    "# metadata\n",
    "metadata = {\n",
    "    'protocolName': 'Chip_Wash',\n",
    "    'author': 'Daniel Nakhaee-Zadeh Gutierrez',\n",
    "    'description': 'Protocol the ',\n",
    "}\n",
    "\n",
    "#Connect to Robot\n",
    "robot.connect()\n",
    "robot.home() #home robot axes\n",
    "\n",
    "#set motor speed\n",
    "slow_speed = {'x': 100, 'y': 100, 'z': 20, 'a': 20, 'b': 10, 'c': 10}\n",
    "fast_speed = {'x': 500, 'y': 300, 'z': 100, 'a': 100, 'b': 40, 'c': 40}\n",
    "medium_speed = {'x': 300, 'y': 200, 'z': 75, 'a': 75, 'b': 25, 'c': 25}\n",
    "speed_conf = int(input('set robot speed to fast (Enter 1), medium (Enter 2) or slow (Enter 3)'))\n",
    "if speed_conf ==1:\n",
    "    speed_set = fast_speed\n",
    "elif speed_conf ==2:\n",
    "    speed_set = medium_speed\n",
    "elif speed_conf ==3:\n",
    "    speed_set = slow_speed\n",
    "    \n",
    "robot.head_speed(combined_speed=max(speed_set.values()),**speed_set)\n",
    "\n",
    "#num of chips\n",
    "num_chips = int(input('Number of chips to coat (1,2 or 3)'))\n",
    "\n",
    "\n",
    "# labware\n",
    "if 'ax_6' not in locals():\n",
    "    ax_6 = labware.load('ax61','3')\n",
    "if 'tiprack' not in locals():\n",
    "    tiprack = labware.load('opentrons-tiprack-300ul', '1')\n",
    "if 'tuberack' not in locals():\n",
    "    tuberack = labware.load('opentrons-tuberack-50ml', '6')\n",
    "if 'ep_rack' not in locals():\n",
    "    ep_rack = labware.load('opentrons-tuberack-2ml-eppendorf','5')\n",
    "\n",
    "\n",
    "# pipettes\n",
    "if 'pipette_300' not in locals():\n",
    "    pipette_300 = instruments.P300_Single(mount='left', tip_racks=[tiprack])\n",
    "if 'pipette_50' not in locals():\n",
    "    pipette_50 = instruments.P50_Single(mount='right', tip_racks=[tiprack])\n",
    "\n",
    "\n",
    "wells = [\"A1\",\"B1\",\"C1\",\"D1\",\"E1\",\"F1\",\"A2\",\"B2\",\"C2\",\"D2\",\"E2\",\"F2\",\"A3\",\"B3\",\"C3\",\"D3\",\"E3\",\"F3\"]\n",
    "\n",
    "#protocol\n",
    "\n",
    "#aspirating\n",
    "pipette_300.pick_up_tip(tiprack.wells('A1'))\n",
    "for i in range(len(wells)):\n",
    "    pipette_300.aspirate(12, ax_6.wells(wells[i]).top(-0.5))\n",
    "pipette_300.dispense(ep_rack.wells('A3').bottom(3))\n",
    "pipette_300.drop_tip()\n",
    "\n",
    "#washing\n",
    "initial_volume = 25*6*num_chips\n",
    "pipette_300.pick_up_tip(tiprack.wells('A2'))\n",
    "pipette_300.aspirate(initial_volume, ep_rack.wells('A2').bottom(3))\n",
    "for i in range(len(wells)):\n",
    "    pipette_300.dispense(25, ax_6.wells(wells[i]).top())\n",
    "    pipette_300.mix(5, 20, ax_6.wells(wells[i]).top(-0.5))\n",
    "pipette_300.drop_tip()\n",
    "\n",
    "print('finishing run')\n",
    "robot.home()\n",
    "\n"
   ]
  },
  {
   "cell_type": "code",
   "execution_count": null,
   "metadata": {},
   "outputs": [],
   "source": [
    "robot.home()"
   ]
  },
  {
   "cell_type": "code",
   "execution_count": null,
   "metadata": {},
   "outputs": [],
   "source": [
    "pipette_300.drop_tip()"
   ]
  },
  {
   "cell_type": "code",
   "execution_count": null,
   "metadata": {},
   "outputs": [],
   "source": []
  }
 ],
 "metadata": {
  "kernelspec": {
   "display_name": "Python 3",
   "language": "python",
   "name": "python3"
  },
  "language_info": {
   "codemirror_mode": {
    "name": "ipython",
    "version": 3
   },
   "file_extension": ".py",
   "mimetype": "text/x-python",
   "name": "python",
   "nbconvert_exporter": "python",
   "pygments_lexer": "ipython3",
   "version": "3.6.3"
  }
 },
 "nbformat": 4,
 "nbformat_minor": 2
}
