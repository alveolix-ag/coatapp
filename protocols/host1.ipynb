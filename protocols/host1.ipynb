{
 "cells": [
  {
   "cell_type": "code",
   "execution_count": 2,
   "metadata": {},
   "outputs": [
    {
     "name": "stdout",
     "output_type": "stream",
     "text": [
      "Starting up on  port 5001\n",
      "waiting for a connection\n",
      "connection from ('169.254.200.107', 58792)\n",
      "received {'tip': '10'}\n",
      "sending data back to the client\n",
      "10\n",
      "Closing current connection\n"
     ]
    },
    {
     "ename": "FileNotFoundError",
     "evalue": "[Errno 2] No such file or directory: 'C:\\\\Users\\\\Alveolix\\\\Documents\\\\GitHub\\\\coat_app\\\\protocols/Protocols/currenttip.json'",
     "output_type": "error",
     "traceback": [
      "\u001b[1;31m---------------------------------------------------------------------------\u001b[0m",
      "\u001b[1;31mFileNotFoundError\u001b[0m                         Traceback (most recent call last)",
      "\u001b[1;32m<ipython-input-2-937a74cf1350>\u001b[0m in \u001b[0;36m<module>\u001b[1;34m\u001b[0m\n\u001b[0;32m     46\u001b[0m                 \u001b[0mprint\u001b[0m\u001b[1;33m(\u001b[0m\u001b[0mcurrent_tip\u001b[0m\u001b[1;33m)\u001b[0m\u001b[1;33m\u001b[0m\u001b[1;33m\u001b[0m\u001b[0m\n\u001b[0;32m     47\u001b[0m                 \u001b[0mparameters\u001b[0m \u001b[1;33m=\u001b[0m \u001b[1;33m{\u001b[0m\u001b[1;34m\"Current Tip\"\u001b[0m\u001b[1;33m:\u001b[0m\u001b[0mcurrent_tip\u001b[0m\u001b[1;33m}\u001b[0m\u001b[1;33m\u001b[0m\u001b[1;33m\u001b[0m\u001b[0m\n\u001b[1;32m---> 48\u001b[1;33m                 \u001b[1;32mwith\u001b[0m \u001b[0mopen\u001b[0m\u001b[1;33m(\u001b[0m\u001b[0mcwd\u001b[0m \u001b[1;33m+\u001b[0m\u001b[1;34m'/Protocols/currenttip.json'\u001b[0m\u001b[1;33m,\u001b[0m \u001b[1;34m'w'\u001b[0m\u001b[1;33m)\u001b[0m \u001b[1;32mas\u001b[0m \u001b[0mjson_file\u001b[0m\u001b[1;33m:\u001b[0m\u001b[1;33m\u001b[0m\u001b[1;33m\u001b[0m\u001b[0m\n\u001b[0m\u001b[0;32m     49\u001b[0m                     \u001b[0mjson\u001b[0m\u001b[1;33m.\u001b[0m\u001b[0mdump\u001b[0m\u001b[1;33m(\u001b[0m\u001b[0mparameters\u001b[0m\u001b[1;33m,\u001b[0m \u001b[0mjson_file\u001b[0m\u001b[1;33m,\u001b[0m \u001b[0mindent\u001b[0m\u001b[1;33m=\u001b[0m\u001b[1;36m4\u001b[0m\u001b[1;33m)\u001b[0m\u001b[1;33m\u001b[0m\u001b[1;33m\u001b[0m\u001b[0m\n\u001b[0;32m     50\u001b[0m                     \u001b[0mjson_file\u001b[0m\u001b[1;33m.\u001b[0m\u001b[0mclose\u001b[0m\u001b[1;33m(\u001b[0m\u001b[1;33m)\u001b[0m\u001b[1;33m\u001b[0m\u001b[1;33m\u001b[0m\u001b[0m\n",
      "\u001b[1;31mFileNotFoundError\u001b[0m: [Errno 2] No such file or directory: 'C:\\\\Users\\\\Alveolix\\\\Documents\\\\GitHub\\\\coat_app\\\\protocols/Protocols/currenttip.json'"
     ]
    }
   ],
   "source": [
    "import socket\n",
    "import json\n",
    "import os\n",
    "\n",
    "\n",
    "def is_json(myjson):\n",
    "  try:\n",
    "    json_object = json.loads(myjson)\n",
    "  except ValueError as e:\n",
    "    return False\n",
    "  return True\n",
    "\n",
    "cwd = os.getcwd()\n",
    "# Create a TCP/IP socket\n",
    "sock = socket.socket(socket.AF_INET, socket.SOCK_STREAM)\n",
    "\n",
    "# Bind the socket to the port\n",
    "server_address = ('', 5001)\n",
    "print('Starting up on {} port {}'.format(*server_address))\n",
    "sock.bind(server_address)\n",
    "\n",
    "# Listen for incoming connections\n",
    "sock.listen(1)\n",
    "data = \"\"\n",
    "\n",
    "while True:\n",
    "    # Wait for a connection\n",
    "    print('waiting for a connection')\n",
    "    connection, client_address = sock.accept()\n",
    "    try:\n",
    "        print('connection from', client_address)\n",
    "\n",
    "        # Receive the data in small chunks and retransmit it\n",
    "        while True:\n",
    "            data = connection.recv(1024)\n",
    "            if is_json(data) == True:\n",
    "                data_loaded = json.loads(data)\n",
    "            else:\n",
    "                data_loaded = data.decode(\"utf-8\")\n",
    "            print('received {!r}'.format(data_loaded))\n",
    "            if \"tip\" in data_loaded:\n",
    "                print('sending data back to the client')\n",
    "                string = \"tip is checked\"\n",
    "                connection.sendall(string.encode())\n",
    "                current_tip = data_loaded[\"tip\"]\n",
    "                print(current_tip)\n",
    "                parameters = {\"Current Tip\":current_tip}\n",
    "                with open(cwd +'/Protocols/currenttip.json', 'w') as json_file:\n",
    "                    json.dump(parameters, json_file, indent=4)\n",
    "                    json_file.close()\n",
    "            elif data.decode(\"utf-8\") == \"Rotate\":\n",
    "                print('sending data back to the client')\n",
    "                string = \"Rotating the chip holder\"\n",
    "                connection.sendall(string.encode())\n",
    "            elif data.decode(\"utf-8\") == \"finish\":\n",
    "                print('sending data back to the client')\n",
    "                string = \"Closing Host\"\n",
    "                connection.sendall(string.encode())\n",
    "                break\n",
    "        break\n",
    "        \n",
    "    finally:\n",
    "        # Clean up the connection\n",
    "        print(\"Closing current connection\")\n",
    "        connection.close()"
   ]
  },
  {
   "cell_type": "code",
   "execution_count": null,
   "metadata": {},
   "outputs": [],
   "source": []
  }
 ],
 "metadata": {
  "kernelspec": {
   "display_name": "Python 3",
   "language": "python",
   "name": "python3"
  },
  "language_info": {
   "codemirror_mode": {
    "name": "ipython",
    "version": 3
   },
   "file_extension": ".py",
   "mimetype": "text/x-python",
   "name": "python",
   "nbconvert_exporter": "python",
   "pygments_lexer": "ipython3",
   "version": "3.7.3"
  }
 },
 "nbformat": 4,
 "nbformat_minor": 2
}
