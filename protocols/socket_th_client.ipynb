{
 "cells": [
  {
   "cell_type": "code",
   "execution_count": 10,
   "metadata": {},
   "outputs": [
    {
     "name": "stdout",
     "output_type": "stream",
     "text": [
      "good job\n"
     ]
    }
   ],
   "source": [
    "# Import socket module \n",
    "import socket \n",
    "\n",
    "\n",
    "def Main(): \n",
    "\t# local host IP '127.0.0.1' \n",
    "\thost = '169.254.87.247'\n",
    "\n",
    "\t# Define the port on which you want to connect \n",
    "\tport = 12345\n",
    "\n",
    "\ts = socket.socket(socket.AF_INET,socket.SOCK_STREAM) \n",
    "\n",
    "\t# connect to server on local computer \n",
    "\ts.connect((host,port)) \n",
    "\n",
    "\t# message you send to server\n",
    "\trotate_st = (b'2')\n",
    "\twhile True: \n",
    "\n",
    "\t\t# message sent to server \n",
    "\t\ts.send(rotate_st) \n",
    "\n",
    "\t\t# messaga received from server \n",
    "\t\tdata = s.recv(1024)\n",
    "\t\tdata = int(str(data, 'utf-8'))\n",
    "\n",
    "\t\t# print the received message \n",
    "\t\t# here it would be a reverse of sent message \n",
    "\t\t#print('Received from the server :',str(data.decode('ascii'))) \n",
    "\n",
    "\t\t# ask the client whether he wants to continue \n",
    "\t\t#ans = input('\\nDo you want to continue(y/n) :') \n",
    "\t\tif data != 2: \n",
    "\t\t\tbreak\n",
    "\t\telse:\n",
    "\t\t\tprint(\"good job\")\n",
    "\t\t\tbreak\n",
    "            \n",
    "\t# close the connection \n",
    "\ts.close() \n",
    "\n",
    "if __name__ == '__main__': \n",
    "\tMain() \n"
   ]
  },
  {
   "cell_type": "code",
   "execution_count": null,
   "metadata": {},
   "outputs": [],
   "source": [
    "print(data)"
   ]
  },
  {
   "cell_type": "code",
   "execution_count": 3,
   "metadata": {},
   "outputs": [
    {
     "name": "stdout",
     "output_type": "stream",
     "text": [
      "1\n"
     ]
    }
   ],
   "source": []
  },
  {
   "cell_type": "code",
   "execution_count": null,
   "metadata": {},
   "outputs": [],
   "source": []
  }
 ],
 "metadata": {
  "kernelspec": {
   "display_name": "Python 3",
   "language": "python",
   "name": "python3"
  },
  "language_info": {
   "codemirror_mode": {
    "name": "ipython",
    "version": 3
   },
   "file_extension": ".py",
   "mimetype": "text/x-python",
   "name": "python",
   "nbconvert_exporter": "python",
   "pygments_lexer": "ipython3",
   "version": "3.6.3"
  }
 },
 "nbformat": 4,
 "nbformat_minor": 2
}
