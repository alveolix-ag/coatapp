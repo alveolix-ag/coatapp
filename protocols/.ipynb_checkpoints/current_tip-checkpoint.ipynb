{
 "cells": [
  {
   "cell_type": "code",
   "execution_count": 1,
   "metadata": {},
   "outputs": [
    {
     "data": {
      "text/plain": [
       "'A1'"
      ]
     },
     "execution_count": 1,
     "metadata": {},
     "output_type": "execute_result"
    }
   ],
   "source": [
    "import pickle\n",
    "def usetip(val = 3,rst = 1):\n",
    "    piwells =[\"A1\",\"B1\",\"C1\",\"D1\",\"E1\",\"F1\",\"G1\",\"H1\",\"A2\",\"B2\",\"C2\",\"D2\",\"E2\",\"F2\",\"G2\",\"H2\",\"A3\",\"B3\",\"C3\",\"D3\",\"E3\",\"F3\",\"G3\",\"H3\",\"A4\",\"B4\",\"C4\",\"D4\",\"E4\",\"F4\",\"G4\",\"H4\",\"A5\",\"B5\",\"C5\",\"D5\",\"E5\",\"F5\",\"G5\",\"H5\",\"A6\",\"B6\",\"C6\",\"D6\",\"E6\",\"F6\",\"G6\",\"H6\",\"A7\",\"B7\",\"C7\",\"D7\",\"E7\",\"F7\",\"G7\",\"H7\",\"A8\",\"B8\",\"C8\",\"D8\",\"E8\",\"F8\",\"G8\",\"H8\"]\n",
    "    if val == 0:\n",
    "        varwells = rst-1;\n",
    "        c_well = varwells;\n",
    "    elif val == 1:\n",
    "        with open('tipw', 'rb') as f:\n",
    "            varwells = pickle.load(f);\n",
    "            c_well = varwells;\n",
    "        return piwells[c_well]\n",
    "    else:\n",
    "        with open('tipw', 'rb') as f:\n",
    "            varwells = pickle.load(f);\n",
    "        c_well = varwells;\n",
    "        varwells = varwells+1;\n",
    "    with open('tipw', 'wb') as f:\n",
    "        pickle.dump(varwells, f);    \n",
    "    return c_well\n",
    "\n",
    "usetip(1)"
   ]
  },
  {
   "cell_type": "code",
   "execution_count": null,
   "metadata": {},
   "outputs": [],
   "source": []
  }
 ],
 "metadata": {
  "kernelspec": {
   "display_name": "Python 3",
   "language": "python",
   "name": "python3"
  },
  "language_info": {
   "codemirror_mode": {
    "name": "ipython",
    "version": 3
   },
   "file_extension": ".py",
   "mimetype": "text/x-python",
   "name": "python",
   "nbconvert_exporter": "python",
   "pygments_lexer": "ipython3",
   "version": "3.6.3"
  }
 },
 "nbformat": 4,
 "nbformat_minor": 2
}
