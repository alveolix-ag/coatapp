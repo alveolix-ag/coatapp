{
 "cells": [
  {
   "cell_type": "code",
   "execution_count": null,
   "metadata": {},
   "outputs": [],
   "source": [
    "from opentrons import labware, instruments, robot, containers\n",
    "import signal\n",
    "import sys\n",
    "import pickle\n",
    "import subprocess\n",
    "\n",
    "robot.connect()\n",
    "robot.home()\n",
    "\n",
    "if 'tiprack' not in locals():\n",
    "    tiprack = labware.load('opentrons-tiprack-300ul', '1')\n",
    "\n",
    "# pipettes\n",
    "if 'pipette_300' not in locals():\n",
    "    pipette_300 = instruments.P300_Single(mount='left', tip_racks=[tiprack])\n",
    "\n",
    "print(\"Droping tip from 300 ul pipette\")\n",
    "pipette_300.drop_tip()\n",
    "print(\"Homing robot\")\n",
    "robot.home()\n",
    "\n",
    "    "
   ]
  }
 ],
 "metadata": {
  "kernelspec": {
   "display_name": "Python 3",
   "language": "python",
   "name": "python3"
  },
  "language_info": {
   "codemirror_mode": {
    "name": "ipython",
    "version": 3
   },
   "file_extension": ".py",
   "mimetype": "text/x-python",
   "name": "python",
   "nbconvert_exporter": "python",
   "pygments_lexer": "ipython3",
   "version": "3.6.3"
  }
 },
 "nbformat": 4,
 "nbformat_minor": 2
}
