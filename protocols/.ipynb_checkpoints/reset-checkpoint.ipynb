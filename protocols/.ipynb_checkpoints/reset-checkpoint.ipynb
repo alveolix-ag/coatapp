{
 "cells": [
  {
   "cell_type": "code",
   "execution_count": 4,
   "metadata": {},
   "outputs": [
    {
     "name": "stdout",
     "output_type": "stream",
     "text": [
      "select pipette to reset: P-300 (Enter 1), P-50 (Enter 2), Both (Enter 3) or None (Enter 4)2\n"
     ]
    },
    {
     "name": "stderr",
     "output_type": "stream",
     "text": [
      "Cannot drop tip without a tip attached.\n"
     ]
    }
   ],
   "source": [
    "from opentrons import labware, instruments, robot, containers\n",
    "robot.connect()\n",
    "\n",
    "if 'tiprack' not in locals():\n",
    "    tiprack = labware.load('opentrons-tiprack-300ul', '1');\n",
    "    \n",
    "pipette_300 = instruments.P300_Single(mount='left', tip_racks=[tiprack])\n",
    "pipette_50 = instruments.P50_Single(mount='right', tip_racks=[tiprack])\n",
    "\n",
    "rest_pipette = int(input('select pipette to reset: P-300 (Enter 1), P-50 (Enter 2), Both (Enter 3) or None (Enter 4)'))\n",
    "\n",
    "robot.home()\n",
    "\n",
    "if rest_pipette == 1:\n",
    "    pipette_300.drop_tip()\n",
    "elif rest_pipette == 2:\n",
    "    pipette_50.drop_tip()\n",
    "else:\n",
    "    pipette_300.drop_tip()\n",
    "    pipette_50.drop_tip()\n",
    "\n",
    "robot.home()\n",
    "\n",
    "pipette_300.pick_up_tip(tiprack.wells('A1'))\n",
    "\n"
   ]
  },
  {
   "cell_type": "code",
   "execution_count": 2,
   "metadata": {},
   "outputs": [],
   "source": [
    "from opentrons import labware, instruments, robot, containers\n",
    "robot.connect()\n",
    "robot.home()"
   ]
  },
  {
   "cell_type": "code",
   "execution_count": null,
   "metadata": {},
   "outputs": [],
   "source": []
  }
 ],
 "metadata": {
  "kernelspec": {
   "display_name": "Python 3",
   "language": "python",
   "name": "python3"
  },
  "language_info": {
   "codemirror_mode": {
    "name": "ipython",
    "version": 3
   },
   "file_extension": ".py",
   "mimetype": "text/x-python",
   "name": "python",
   "nbconvert_exporter": "python",
   "pygments_lexer": "ipython3",
   "version": "3.6.3"
  }
 },
 "nbformat": 4,
 "nbformat_minor": 2
}
