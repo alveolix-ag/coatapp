{
 "cells": [
  {
   "cell_type": "code",
   "execution_count": 1,
   "metadata": {},
   "outputs": [
    {
     "name": "stdout",
     "output_type": "stream",
     "text": [
      "Starting up on  port 5000\n",
      "waiting for a connection\n",
      "connection from ('169.254.200.107', 34616)\n",
      "received {'tip': '10'}\n",
      "sending data back to the client\n",
      "10\n",
      "received 'Rotate'\n",
      "sending data back to the client\n",
      "received 'finish'\n",
      "sending data back to the client\n",
      "Closing current connection\n"
     ]
    }
   ],
   "source": [
    "import socket\n",
    "import json\n",
    "import os\n",
    "\n",
    "\n",
    "def is_json(myjson):\n",
    "  try:\n",
    "    json_object = json.loads(myjson)\n",
    "  except ValueError as e:\n",
    "    return False\n",
    "  return True\n",
    "\n",
    "cwd = os.getcwd()\n",
    "# Create a TCP/IP socket\n",
    "sock = socket.socket(socket.AF_INET, socket.SOCK_STREAM)\n",
    "\n",
    "# Bind the socket to the port\n",
    "server_address = ('', 5001)\n",
    "print('Starting up on {} port {}'.format(*server_address))\n",
    "sock.bind(server_address)\n",
    "\n",
    "# Listen for incoming connections\n",
    "sock.listen(1)\n",
    "data = \"\"\n",
    "\n",
    "while True:\n",
    "    # Wait for a connection\n",
    "    print('waiting for a connection')\n",
    "    connection, client_address = sock.accept()\n",
    "    try:\n",
    "        print('connection from', client_address)\n",
    "\n",
    "        # Receive the data in small chunks and retransmit it\n",
    "        while True:\n",
    "            data = connection.recv(1024)\n",
    "            if is_json(data) == True:\n",
    "                data_loaded = json.loads(data)\n",
    "            else:\n",
    "                data_loaded = data.decode(\"utf-8\")\n",
    "            print('received {!r}'.format(data_loaded))\n",
    "            if \"tip\" in data_loaded:\n",
    "                print('sending data back to the client')\n",
    "                string = \"tip is checked\"\n",
    "                connection.sendall(string.encode())\n",
    "                current_tip = data_loaded[\"tip\"]\n",
    "                print(current_tip)\n",
    "                parameters = {\"Current Tip\":current_tip}\n",
    "                with open(cwd +'/Protocols/currenttip.json', 'w') as json_file:\n",
    "                    json.dump(parameters, json_file, indent=4)\n",
    "                    json_file.close()\n",
    "            elif data.decode(\"utf-8\") == \"Rotate\":\n",
    "                print('sending data back to the client')\n",
    "                string = \"Rotating the chip holder\"\n",
    "                connection.sendall(string.encode())\n",
    "            elif data.decode(\"utf-8\") == \"finish\":\n",
    "                print('sending data back to the client')\n",
    "                string = \"Closing Host\"\n",
    "                connection.sendall(string.encode())\n",
    "                break\n",
    "        break\n",
    "        \n",
    "    finally:\n",
    "        # Clean up the connection\n",
    "        print(\"Closing current connection\")\n",
    "        connection.close()"
   ]
  },
  {
   "cell_type": "code",
   "execution_count": null,
   "metadata": {},
   "outputs": [],
   "source": []
  }
 ],
 "metadata": {
  "kernelspec": {
   "display_name": "Python 3",
   "language": "python",
   "name": "python3"
  },
  "language_info": {
   "codemirror_mode": {
    "name": "ipython",
    "version": 3
   },
   "file_extension": ".py",
   "mimetype": "text/x-python",
   "name": "python",
   "nbconvert_exporter": "python",
   "pygments_lexer": "ipython3",
   "version": "3.7.3"
  }
 },
 "nbformat": 4,
 "nbformat_minor": 2
}
