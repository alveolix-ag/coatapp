{
 "cells": [
  {
   "cell_type": "code",
   "execution_count": 4,
   "metadata": {},
   "outputs": [
    {
     "name": "stdout",
     "output_type": "stream",
     "text": [
      "Starting up on  port 5000\n",
      "waiting for a connection\n",
      "connection from ('169.254.119.61', 44472)\n",
      "received 'tip'\n",
      "sending data back to the client\n",
      "received 'Rotate'\n",
      "sending data back to the client\n",
      "received 'finish'\n",
      "sending data back to the client\n",
      "Closing current connection\n"
     ]
    }
   ],
   "source": [
    "import socket\n",
    "\n",
    "# Create a TCP/IP socket\n",
    "sock = socket.socket(socket.AF_INET, socket.SOCK_STREAM)\n",
    "\n",
    "# Bind the socket to the port\n",
    "server_address = ('', 5000)\n",
    "print('Starting up on {} port {}'.format(*server_address))\n",
    "sock.bind(server_address)\n",
    "\n",
    "# Listen for incoming connections\n",
    "sock.listen(1)\n",
    "data = \"\"\n",
    "\n",
    "while True:\n",
    "    # Wait for a connection\n",
    "    print('waiting for a connection')\n",
    "    connection, client_address = sock.accept()\n",
    "    try:\n",
    "        print('connection from', client_address)\n",
    "\n",
    "        # Receive the data in small chunks and retransmit it\n",
    "        while True:\n",
    "            data = connection.recv(1024)\n",
    "            print('received {!r}'.format(data.decode(\"utf-8\")))\n",
    "            if data.decode(\"utf-8\") == \"tip\":\n",
    "                print('sending data back to the client')\n",
    "                string = \"tip is checked\"\n",
    "                connection.sendall(string.encode())\n",
    "            elif data.decode(\"utf-8\") == \"Rotate\":\n",
    "                print('sending data back to the client')\n",
    "                string = \"Rotating the chip holder\"\n",
    "                connection.sendall(string.encode())\n",
    "            elif data.decode(\"utf-8\") == \"finish\":\n",
    "                print('sending data back to the client')\n",
    "                string = \"Closing Host\"\n",
    "                connection.sendall(string.encode())\n",
    "                break\n",
    "        break\n",
    "        \n",
    "    finally:\n",
    "        # Clean up the connection\n",
    "        print(\"Closing current connection\")\n",
    "        connection.close()"
   ]
  },
  {
   "cell_type": "code",
   "execution_count": null,
   "metadata": {},
   "outputs": [],
   "source": []
  }
 ],
 "metadata": {
  "kernelspec": {
   "display_name": "Python 3",
   "language": "python",
   "name": "python3"
  },
  "language_info": {
   "codemirror_mode": {
    "name": "ipython",
    "version": 3
   },
   "file_extension": ".py",
   "mimetype": "text/x-python",
   "name": "python",
   "nbconvert_exporter": "python",
   "pygments_lexer": "ipython3",
   "version": "3.7.3"
  }
 },
 "nbformat": 4,
 "nbformat_minor": 2
}
