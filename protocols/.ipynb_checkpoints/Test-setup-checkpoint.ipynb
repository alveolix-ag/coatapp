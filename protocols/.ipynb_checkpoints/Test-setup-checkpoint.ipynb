{
 "cells": [
  {
   "cell_type": "code",
   "execution_count": 1,
   "metadata": {},
   "outputs": [
    {
     "data": {
      "text/plain": [
       "<opentrons.legacy_api.instruments.pipette.Pipette at 0x7515ec70>"
      ]
     },
     "execution_count": 1,
     "metadata": {},
     "output_type": "execute_result"
    }
   ],
   "source": [
    "from opentrons import labware, instruments, robot, containers\n",
    "import signal\n",
    "import sys\n",
    "\n",
    "robot.connect()\n",
    "robot.home() #home robot axes\n",
    "\n",
    "\n",
    "# labware\n",
    "if 'ax_6' not in locals():\n",
    "    ax_6 = labware.load('ax6_4','6')\n",
    "if 'tiprack' not in locals():\n",
    "    tiprack = labware.load('opentrons-tiprack-300ul', '1')\n",
    "if 'ep_rack' not in locals():\n",
    "    ep_rack = labware.load('opentrons_24_tuberack_2_ml_eppendorf','4')\n",
    "\n",
    "pipette_300 = instruments.P300_Single(mount='left', tip_racks=[tiprack])\n",
    "pipette_50 = instruments.P50_Single(mount='right', tip_racks=[tiprack])\n",
    "\n",
    "pipette_50.pick_up_tip(tiprack.wells('A1'))\n",
    "#pipette_50.move_to(ax_6.wells('A1').top(30))"
   ]
  },
  {
   "cell_type": "code",
   "execution_count": null,
   "metadata": {},
   "outputs": [],
   "source": [
    "pipette_50.move_to(ax_6.wells('A1').top(50))"
   ]
  },
  {
   "cell_type": "code",
   "execution_count": null,
   "metadata": {},
   "outputs": [],
   "source": [
    "robot.home()"
   ]
  },
  {
   "cell_type": "code",
   "execution_count": null,
   "metadata": {},
   "outputs": [],
   "source": []
  }
 ],
 "metadata": {
  "kernelspec": {
   "display_name": "Python 3",
   "language": "python",
   "name": "python3"
  },
  "language_info": {
   "codemirror_mode": {
    "name": "ipython",
    "version": 3
   },
   "file_extension": ".py",
   "mimetype": "text/x-python",
   "name": "python",
   "nbconvert_exporter": "python",
   "pygments_lexer": "ipython3",
   "version": "3.6.3"
  }
 },
 "nbformat": 4,
 "nbformat_minor": 2
}
