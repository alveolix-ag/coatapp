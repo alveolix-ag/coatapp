{
 "cells": [
  {
   "cell_type": "code",
   "execution_count": 4,
   "metadata": {},
   "outputs": [
    {
     "name": "stdout",
     "output_type": "stream",
     "text": [
      "set robot speed to fast (Enter 1), medium (Enter 2) or slow (Enter 3)2\n",
      "Number of chips to coat (1,2 or 3)2\n"
     ]
    },
    {
     "ename": "IndexError",
     "evalue": "list index out of range",
     "output_type": "error",
     "traceback": [
      "\u001b[0;31m\u001b[0m",
      "\u001b[0;31mIndexError\u001b[0mTraceback (most recent call last)",
      "\u001b[0;32m<ipython-input-4-119b070f7e01>\u001b[0m in \u001b[0;36m<module>\u001b[0;34m()\u001b[0m\n\u001b[1;32m     68\u001b[0m \u001b[0;34m\u001b[0m\u001b[0m\n\u001b[1;32m     69\u001b[0m \u001b[0;31m#Check Current Pipette Tip\u001b[0m\u001b[0;34m\u001b[0m\u001b[0;34m\u001b[0m\u001b[0m\n\u001b[0;32m---> 70\u001b[0;31m \u001b[0mprint\u001b[0m\u001b[0;34m(\u001b[0m\u001b[0;34m\"Ensure that there is pipette tips from well\"\u001b[0m\u001b[0;34m,\u001b[0m \u001b[0mpiwells\u001b[0m\u001b[0;34m[\u001b[0m\u001b[0mint\u001b[0m\u001b[0;34m(\u001b[0m\u001b[0musetip\u001b[0m\u001b[0;34m(\u001b[0m\u001b[0;36m1\u001b[0m\u001b[0;34m)\u001b[0m\u001b[0;34m)\u001b[0m\u001b[0;34m]\u001b[0m\u001b[0;34m)\u001b[0m\u001b[0;34m\u001b[0m\u001b[0m\n\u001b[0m\u001b[1;32m     71\u001b[0m \u001b[0mprint\u001b[0m\u001b[0;34m(\u001b[0m\u001b[0;34m\"If not reset pipette count using usetip(val,rst) function\"\u001b[0m\u001b[0;34m)\u001b[0m\u001b[0;34m\u001b[0m\u001b[0m\n\u001b[1;32m     72\u001b[0m \u001b[0;34m\u001b[0m\u001b[0m\n",
      "\u001b[0;31mIndexError\u001b[0m: list index out of range"
     ]
    }
   ],
   "source": [
    "from opentrons import labware, instruments, robot, containers\n",
    "import signal\n",
    "import sys\n",
    "import pickle\n",
    "import subprocess\n",
    "\n",
    "\n",
    "\n",
    "# metadata\n",
    "metadata = {\n",
    "    'protocolName': 'Chip_coating_rotator',\n",
    "    'author': 'Daniel Nakhaee-Zadeh Gutierrez',\n",
    "    'description': 'Protocol used to coat the PDMS membrane of the AX6 LOC chip',\n",
    "}\n",
    "\n",
    "#Connect to Robot\n",
    "#robot.connect()\n",
    "robot.home() #home robot axes\n",
    "\n",
    "#set motor speed\n",
    "slow_speed = {'x': 100, 'y': 100, 'z': 20, 'a': 20, 'b': 10, 'c': 10}\n",
    "fast_speed = {'x': 500, 'y': 300, 'z': 100, 'a': 100, 'b': 40, 'c': 40}\n",
    "medium_speed = {'x': 300, 'y': 200, 'z': 75, 'a': 75, 'b': 25, 'c': 25}\n",
    "speed_conf = int(input('set robot speed to fast (Enter 1), medium (Enter 2) or slow (Enter 3)'))\n",
    "if speed_conf ==1:\n",
    "    speed_set = fast_speed\n",
    "elif speed_conf ==2:\n",
    "    speed_set = medium_speed\n",
    "elif speed_conf ==3:\n",
    "    speed_set = slow_speed\n",
    "    \n",
    "robot.head_speed(combined_speed=max(speed_set.values()),**speed_set)\n",
    "\n",
    "#Number of chips to coat\n",
    "num_chips = int(input('Number of chips to coat (1,2 or 3)'))\n",
    "rotate_st = None;\n",
    "\n",
    "# labware\n",
    "if 'ax_6' not in locals():\n",
    "    ax_6 = labware.load('ax6_4','6')\n",
    "if 'tiprack' not in locals():\n",
    "    tiprack = labware.load('opentrons-tiprack-300ul', '1')\n",
    "if 'ep_rack' not in locals():\n",
    "    ep_rack = labware.load('opentrons_24_tuberack_eppendorf_2ml_safelock_snapcap','4')\n",
    "\n",
    "\n",
    "# pipettes\n",
    "if 'pipette_300' not in locals():\n",
    "    pipette_300 = instruments.P300_Single(mount='left', tip_racks=[tiprack])\n",
    "if 'pipette_50' not in locals():\n",
    "    pipette_50 = instruments.P50_Single(mount='right', tip_racks=[tiprack])\n",
    "    \n",
    "#Keeping sanity on tips\n",
    "piwells =[\"A1\",\"B1\",\"C1\",\"D1\",\"E1\",\"F1\",\"G1\",\"H1\",\"A2\",\"B2\",\"C2\",\"D2\",\"E2\",\"F2\",\"G2\",\"H2\",\"A3\",\"B3\",\"C3\",\"D3\",\"E3\",\"F3\",\"G3\",\"H3\",\"A4\",\"B4\",\"C4\",\"D4\",\"E4\",\"F4\",\"G4\",\"H4\",\"A5\",\"B5\",\"C5\",\"D5\",\"E5\",\"F5\",\"G5\",\"H5\",\"A6\",\"B6\",\"C6\",\"D6\",\"E6\",\"F6\",\"G6\",\"H6\",\"A7\",\"B7\",\"C7\",\"D7\",\"E7\",\"F7\",\"G7\",\"H7\",\"A8\",\"B8\",\"C8\",\"D8\",\"E8\",\"F8\",\"G8\",\"H8\",\"A9\",\"B9\",\"C9\",\"D9\",\"E9\",\"F9\",\"G9\",\"H9\",\"A10\",\"B10\",\"C10\",\"D10\",\"E10\",\"F10\",\"G10\",\"H10\",\"A11\",\"B11\",\"C11\",\"D11\",\"E11\",\"F11\",\"G11\",\"H11\",\"A12\",\"B12\",\"C12\",\"D12\",\"E12\",\"F12\",\"G12\",\"H12\"]\n",
    "def usetip(val = 3,rst = 0):\n",
    "    if val == 0:\n",
    "        varwells = rst;\n",
    "    elif val == 1:\n",
    "        with open('tipwells', 'rb') as f:\n",
    "            varwells = pickle.load(f);\n",
    "    else:\n",
    "        with open('tipwells', 'rb') as f:\n",
    "            varwells = pickle.load(f);\n",
    "        varwells = varwells+1;\n",
    "    with open('tipwells', 'wb') as f:\n",
    "        pickle.dump(varwells, f);\n",
    "    return varwells\n",
    "\n",
    "#Check Current Pipette Tip\n",
    "print(\"Ensure that there is pipette tips from well\", piwells[int(usetip(1))])\n",
    "print(\"If not reset pipette count using usetip(val,rst) function\")\n",
    "\n",
    "#pipette_300.drop_tip()\n",
    "\n",
    "#protocol\n",
    "while 1:\n",
    "    side_to_coat = int(input(\"Coating Apical only (Enter 1), or Coating Apical and Basal side (Enter 2)\"))\n",
    "    if side_to_coat != 2 and side_to_coat != 1:\n",
    "        print('Error - Please enter a correct value (1 or 2)')\n",
    "    else:\n",
    "        break\n",
    "\n",
    "initial_volume = 12*6*num_chips\n",
    "wells = [\"A1\",\"B1\",\"C1\",\"D1\",\"E1\",\"F1\",\"A2\",\"B2\",\"C2\",\"D2\",\"E2\",\"F2\",\"A3\",\"B3\",\"C3\",\"D3\",\"E3\",\"F3\"]\n",
    "\n",
    "\n",
    "#protocol\n",
    "pipette_300.pick_up_tip(tiprack.wells(piwells[int(usetip())]))\n",
    "pipette_300.mix(5, initial_volume, ep_rack.wells('A1').bottom(3))\n",
    "pipette_300.aspirate(initial_volume, ep_rack.wells('A1').bottom(3))\n",
    "for i in range(0,(6*num_chips)):\n",
    "    pipette_300.dispense(12, ax_6.wells(wells[i]).top(-1.3))\n",
    "    pipette_300.delay(seconds=3) \n",
    "  \n",
    "    \n",
    "if side_to_coat == 1:\n",
    "    print('Finishing run')\n",
    "    pipette_300.drop_tip()\n",
    "    robot.home()\n",
    "    \n",
    "elif side_to_coat == 2:\n",
    "    pipette_300.move_to(ep_rack.wells('A1').top(20))\n",
    "    print(\"Flip Chip Holder, rotating around its shorter side\")\n",
    "    while rotate_st is None:\n",
    "        rotate_st = input('Press enter when chip is flipped...')\n",
    "    pipette_300.mix(5, initial_volume, ep_rack.wells('A1').bottom(3))\n",
    "    pipette_300.aspirate(initial_volume, ep_rack.wells('A1').bottom(3))\n",
    "    for i in range(0 , (6*num_chips)):\n",
    "        pipette_300.dispense(12, ax_6.wells(wells[i]).top(-0.8))\n",
    "        pipette_300.delay(seconds=3)\n",
    " \n",
    "    print('Finishing run')\n",
    "    pipette_300.drop_tip()\n",
    "    robot.home()\n",
    "    "
   ]
  },
  {
   "cell_type": "code",
   "execution_count": null,
   "metadata": {},
   "outputs": [],
   "source": [
    "import pickle\n",
    "def usetip(val = 3,rst = 0):\n",
    "    if val == 0:\n",
    "        varwells = rst;\n",
    "    elif val == 1:\n",
    "        with open('tipwells', 'rb') as f:\n",
    "            varwells = pickle.load(f);\n",
    "    else:\n",
    "        with open('tipwells', 'rb') as f:\n",
    "            varwells = pickle.load(f);\n",
    "        varwells = varwells+1;\n",
    "    with open('tipwells', 'wb') as f:\n",
    "        pickle.dump(varwells, f);\n",
    "    return varwells"
   ]
  },
  {
   "cell_type": "code",
   "execution_count": null,
   "metadata": {},
   "outputs": [],
   "source": [
    " pipette_300.dispense(initial_volume, ep_rack.wells('A1').bottom(3))"
   ]
  },
  {
   "cell_type": "code",
   "execution_count": null,
   "metadata": {},
   "outputs": [],
   "source": [
    "robot.home()"
   ]
  },
  {
   "cell_type": "code",
   "execution_count": null,
   "metadata": {},
   "outputs": [],
   "source": [
    "piwells =[\"A1\",\"B1\",\"C1\",\"D1\",\"E1\",\"F1\",\"G1\",\"H1\",\"A2\",\"B2\",\"C2\",\"D2\",\"E2\",\"F2\",\"G2\",\"H2\",\"A3\",\"B3\",\"C3\",\"D3\",\"E3\",\"F3\",\"G3\",\"H3\",\"A4\",\"B4\",\"C4\",\"D4\",\"E4\",\"F4\",\"G4\",\"H4\",\"A5\",\"B5\",\"C5\",\"D5\",\"E5\",\"F5\",\"G5\",\"H5\",\"A6\",\"B6\",\"C6\",\"D6\",\"E6\",\"F6\",\"G6\",\"H6\",\"A7\",\"B7\",\"C7\",\"D7\",\"E7\",\"F7\",\"G7\",\"H7\",\"A8\",\"B8\",\"C8\",\"D8\",\"E8\",\"F8\",\"G8\",\"H8\"]\n",
    "def usetip(val = 3,rst = 0):\n",
    "    if val == 0:\n",
    "        varwells = rst;\n",
    "    elif val == 1:\n",
    "        with open('tipwells', 'rb') as f:\n",
    "            varwells = pickle.load(f);\n",
    "    else:\n",
    "        with open('tipwells', 'rb') as f:\n",
    "            varwells = pickle.load(f);\n",
    "        varwells = varwells+1;\n",
    "    with open('tipwells', 'wb') as f:\n",
    "        pickle.dump(varwells, f);\n",
    "    return varwells"
   ]
  },
  {
   "cell_type": "code",
   "execution_count": null,
   "metadata": {},
   "outputs": [],
   "source": [
    "import pickle\n",
    "usetip(1)"
   ]
  },
  {
   "cell_type": "code",
   "execution_count": null,
   "metadata": {},
   "outputs": [],
   "source": [
    "piwells =[\"A1\",\"B1\",\"C1\",\"D1\",\"E1\",\"F1\",\"G1\",\"H1\",\"A2\",\"B2\",\"C2\",\"D2\",\"E2\",\"F2\",\"G2\",\"H2\",\"A3\",\"B3\",\"C3\",\"D3\",\"E3\",\"F3\",\"G3\",\"H3\",\"A4\",\"B4\",\"C4\",\"D4\",\"E4\",\"F4\",\"G4\",\"H4\",\"A5\",\"B5\",\"C5\",\"D5\",\"E5\",\"F5\",\"G5\",\"H5\",\"A6\",\"B6\",\"C6\",\"D6\",\"E6\",\"F6\",\"G6\",\"H6\",\"A7\",\"B7\",\"C7\",\"D7\",\"E7\",\"F7\",\"G7\",\"H7\",\"A8\",\"B8\",\"C8\",\"D8\",\"E8\",\"F8\",\"G8\",\"H8\"]\n",
    "print(piwells[int(usetip(1))])"
   ]
  },
  {
   "cell_type": "code",
   "execution_count": null,
   "metadata": {},
   "outputs": [],
   "source": []
  },
  {
   "cell_type": "code",
   "execution_count": null,
   "metadata": {},
   "outputs": [],
   "source": [
    "pipette_300.drop_tip()"
   ]
  },
  {
   "cell_type": "code",
   "execution_count": 3,
   "metadata": {},
   "outputs": [
    {
     "name": "stdout",
     "output_type": "stream",
     "text": [
      "ghahabs\n",
      "ghahabs\n",
      "ghahabs\n",
      "ghahabs\n",
      "ghahabs\n",
      "ghahabs\n",
      "ghahabs\n",
      "ghahabs\n",
      "ghahabs\n"
     ]
    },
    {
     "ename": "KeyboardInterrupt",
     "evalue": "",
     "output_type": "error",
     "traceback": [
      "\u001b[0;31m\u001b[0m",
      "\u001b[0;31mKeyboardInterrupt\u001b[0mTraceback (most recent call last)",
      "\u001b[0;32m/usr/local/lib/python3.6/site-packages/ipykernel/kernelbase.py\u001b[0m in \u001b[0;36m_input_request\u001b[0;34m(self, prompt, ident, parent, password)\u001b[0m\n\u001b[1;32m    728\u001b[0m             \u001b[0;32mtry\u001b[0m\u001b[0;34m:\u001b[0m\u001b[0;34m\u001b[0m\u001b[0m\n\u001b[0;32m--> 729\u001b[0;31m                 \u001b[0mident\u001b[0m\u001b[0;34m,\u001b[0m \u001b[0mreply\u001b[0m \u001b[0;34m=\u001b[0m \u001b[0mself\u001b[0m\u001b[0;34m.\u001b[0m\u001b[0msession\u001b[0m\u001b[0;34m.\u001b[0m\u001b[0mrecv\u001b[0m\u001b[0;34m(\u001b[0m\u001b[0mself\u001b[0m\u001b[0;34m.\u001b[0m\u001b[0mstdin_socket\u001b[0m\u001b[0;34m,\u001b[0m \u001b[0;36m0\u001b[0m\u001b[0;34m)\u001b[0m\u001b[0;34m\u001b[0m\u001b[0m\n\u001b[0m\u001b[1;32m    730\u001b[0m             \u001b[0;32mexcept\u001b[0m \u001b[0mException\u001b[0m\u001b[0;34m:\u001b[0m\u001b[0;34m\u001b[0m\u001b[0m\n",
      "\u001b[0;32m/usr/local/lib/python3.6/site-packages/jupyter_client/session.py\u001b[0m in \u001b[0;36mrecv\u001b[0;34m(self, socket, mode, content, copy)\u001b[0m\n\u001b[1;32m    802\u001b[0m         \u001b[0;32mtry\u001b[0m\u001b[0;34m:\u001b[0m\u001b[0;34m\u001b[0m\u001b[0m\n\u001b[0;32m--> 803\u001b[0;31m             \u001b[0mmsg_list\u001b[0m \u001b[0;34m=\u001b[0m \u001b[0msocket\u001b[0m\u001b[0;34m.\u001b[0m\u001b[0mrecv_multipart\u001b[0m\u001b[0;34m(\u001b[0m\u001b[0mmode\u001b[0m\u001b[0;34m,\u001b[0m \u001b[0mcopy\u001b[0m\u001b[0;34m=\u001b[0m\u001b[0mcopy\u001b[0m\u001b[0;34m)\u001b[0m\u001b[0;34m\u001b[0m\u001b[0m\n\u001b[0m\u001b[1;32m    804\u001b[0m         \u001b[0;32mexcept\u001b[0m \u001b[0mzmq\u001b[0m\u001b[0;34m.\u001b[0m\u001b[0mZMQError\u001b[0m \u001b[0;32mas\u001b[0m \u001b[0me\u001b[0m\u001b[0;34m:\u001b[0m\u001b[0;34m\u001b[0m\u001b[0m\n",
      "\u001b[0;32m/usr/local/lib/python3.6/site-packages/zmq/sugar/socket.py\u001b[0m in \u001b[0;36mrecv_multipart\u001b[0;34m(self, flags, copy, track)\u001b[0m\n\u001b[1;32m    394\u001b[0m         \"\"\"\n\u001b[0;32m--> 395\u001b[0;31m         \u001b[0mparts\u001b[0m \u001b[0;34m=\u001b[0m \u001b[0;34m[\u001b[0m\u001b[0mself\u001b[0m\u001b[0;34m.\u001b[0m\u001b[0mrecv\u001b[0m\u001b[0;34m(\u001b[0m\u001b[0mflags\u001b[0m\u001b[0;34m,\u001b[0m \u001b[0mcopy\u001b[0m\u001b[0;34m=\u001b[0m\u001b[0mcopy\u001b[0m\u001b[0;34m,\u001b[0m \u001b[0mtrack\u001b[0m\u001b[0;34m=\u001b[0m\u001b[0mtrack\u001b[0m\u001b[0;34m)\u001b[0m\u001b[0;34m]\u001b[0m\u001b[0;34m\u001b[0m\u001b[0m\n\u001b[0m\u001b[1;32m    396\u001b[0m         \u001b[0;31m# have first part already, only loop while more to receive\u001b[0m\u001b[0;34m\u001b[0m\u001b[0;34m\u001b[0m\u001b[0m\n",
      "\u001b[0;32mzmq/backend/cython/socket.pyx\u001b[0m in \u001b[0;36mzmq.backend.cython.socket.Socket.recv (zmq/backend/cython/socket.c:7683)\u001b[0;34m()\u001b[0m\n",
      "\u001b[0;32mzmq/backend/cython/socket.pyx\u001b[0m in \u001b[0;36mzmq.backend.cython.socket.Socket.recv (zmq/backend/cython/socket.c:7460)\u001b[0;34m()\u001b[0m\n",
      "\u001b[0;32mzmq/backend/cython/socket.pyx\u001b[0m in \u001b[0;36mzmq.backend.cython.socket._recv_copy (zmq/backend/cython/socket.c:2344)\u001b[0;34m()\u001b[0m\n",
      "\u001b[0;32m/usr/local/lib/python3.6/site-packages/zmq/backend/cython/checkrc.pxd\u001b[0m in \u001b[0;36mzmq.backend.cython.checkrc._check_rc (zmq/backend/cython/socket.c:9621)\u001b[0;34m()\u001b[0m\n",
      "\u001b[0;31mKeyboardInterrupt\u001b[0m: ",
      "\nDuring handling of the above exception, another exception occurred:\n",
      "\u001b[0;31mKeyboardInterrupt\u001b[0mTraceback (most recent call last)",
      "\u001b[0;32m<ipython-input-3-ceb51d777987>\u001b[0m in \u001b[0;36m<module>\u001b[0;34m()\u001b[0m\n\u001b[1;32m      1\u001b[0m \u001b[0md\u001b[0m\u001b[0;34m=\u001b[0m\u001b[0;32mNone\u001b[0m\u001b[0;34m;\u001b[0m\u001b[0;34m\u001b[0m\u001b[0m\n\u001b[1;32m      2\u001b[0m \u001b[0;32mwhile\u001b[0m \u001b[0md\u001b[0m \u001b[0;32mis\u001b[0m \u001b[0;32mNone\u001b[0m\u001b[0;34m:\u001b[0m\u001b[0;34m\u001b[0m\u001b[0m\n\u001b[0;32m----> 3\u001b[0;31m     \u001b[0md1\u001b[0m \u001b[0;34m=\u001b[0m \u001b[0minput\u001b[0m\u001b[0;34m(\u001b[0m\u001b[0;34m\"ghahabs\"\u001b[0m\u001b[0;34m)\u001b[0m\u001b[0;34m\u001b[0m\u001b[0m\n\u001b[0m",
      "\u001b[0;32m/usr/local/lib/python3.6/site-packages/ipykernel/kernelbase.py\u001b[0m in \u001b[0;36mraw_input\u001b[0;34m(self, prompt)\u001b[0m\n\u001b[1;32m    702\u001b[0m             \u001b[0mself\u001b[0m\u001b[0;34m.\u001b[0m\u001b[0m_parent_ident\u001b[0m\u001b[0;34m,\u001b[0m\u001b[0;34m\u001b[0m\u001b[0m\n\u001b[1;32m    703\u001b[0m             \u001b[0mself\u001b[0m\u001b[0;34m.\u001b[0m\u001b[0m_parent_header\u001b[0m\u001b[0;34m,\u001b[0m\u001b[0;34m\u001b[0m\u001b[0m\n\u001b[0;32m--> 704\u001b[0;31m             \u001b[0mpassword\u001b[0m\u001b[0;34m=\u001b[0m\u001b[0;32mFalse\u001b[0m\u001b[0;34m,\u001b[0m\u001b[0;34m\u001b[0m\u001b[0m\n\u001b[0m\u001b[1;32m    705\u001b[0m         )\n\u001b[1;32m    706\u001b[0m \u001b[0;34m\u001b[0m\u001b[0m\n",
      "\u001b[0;32m/usr/local/lib/python3.6/site-packages/ipykernel/kernelbase.py\u001b[0m in \u001b[0;36m_input_request\u001b[0;34m(self, prompt, ident, parent, password)\u001b[0m\n\u001b[1;32m    732\u001b[0m             \u001b[0;32mexcept\u001b[0m \u001b[0mKeyboardInterrupt\u001b[0m\u001b[0;34m:\u001b[0m\u001b[0;34m\u001b[0m\u001b[0m\n\u001b[1;32m    733\u001b[0m                 \u001b[0;31m# re-raise KeyboardInterrupt, to truncate traceback\u001b[0m\u001b[0;34m\u001b[0m\u001b[0;34m\u001b[0m\u001b[0m\n\u001b[0;32m--> 734\u001b[0;31m                 \u001b[0;32mraise\u001b[0m \u001b[0mKeyboardInterrupt\u001b[0m\u001b[0;34m\u001b[0m\u001b[0m\n\u001b[0m\u001b[1;32m    735\u001b[0m             \u001b[0;32melse\u001b[0m\u001b[0;34m:\u001b[0m\u001b[0;34m\u001b[0m\u001b[0m\n\u001b[1;32m    736\u001b[0m                 \u001b[0;32mbreak\u001b[0m\u001b[0;34m\u001b[0m\u001b[0m\n",
      "\u001b[0;31mKeyboardInterrupt\u001b[0m: "
     ]
    }
   ],
   "source": [
    "d=None;\n",
    "while d is None:\n",
    "    d1 = input(\"ghahabs\")\n"
   ]
  },
  {
   "cell_type": "code",
   "execution_count": null,
   "metadata": {},
   "outputs": [],
   "source": []
  }
 ],
 "metadata": {
  "kernelspec": {
   "display_name": "Python 3",
   "language": "python",
   "name": "python3"
  },
  "language_info": {
   "codemirror_mode": {
    "name": "ipython",
    "version": 3
   },
   "file_extension": ".py",
   "mimetype": "text/x-python",
   "name": "python",
   "nbconvert_exporter": "python",
   "pygments_lexer": "ipython3",
   "version": "3.6.3"
  }
 },
 "nbformat": 4,
 "nbformat_minor": 2
}
