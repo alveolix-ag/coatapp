{
 "cells": [
  {
   "cell_type": "code",
   "execution_count": 2,
   "metadata": {},
   "outputs": [
    {
     "name": "stdout",
     "output_type": "stream",
     "text": [
      "input l2\n",
      "in loop\n",
      "input l2\n",
      "in loop\n",
      "input l2\n",
      "in loop\n",
      "input l3\n",
      "in loop\n",
      "input l2\n",
      "in loop\n",
      "input l5\n",
      "in loop\n",
      "out loop\n"
     ]
    }
   ],
   "source": [
    "from opentrons import labware, instruments, robot, containers\n",
    "import signal\n",
    "import sys\n",
    "import pickle\n",
    "import subprocess\n",
    "\n",
    "l = 0;\n",
    "\n",
    "while l < 5:\n",
    "    l = int(input(\"input l\"));\n",
    "    print(\"in loop\")\n",
    "\n",
    "print(\"out loop\")"
   ]
  },
  {
   "cell_type": "code",
   "execution_count": null,
   "metadata": {},
   "outputs": [],
   "source": []
  }
 ],
 "metadata": {
  "kernelspec": {
   "display_name": "Python 3",
   "language": "python",
   "name": "python3"
  },
  "language_info": {
   "codemirror_mode": {
    "name": "ipython",
    "version": 3
   },
   "file_extension": ".py",
   "mimetype": "text/x-python",
   "name": "python",
   "nbconvert_exporter": "python",
   "pygments_lexer": "ipython3",
   "version": "3.6.3"
  }
 },
 "nbformat": 4,
 "nbformat_minor": 2
}
